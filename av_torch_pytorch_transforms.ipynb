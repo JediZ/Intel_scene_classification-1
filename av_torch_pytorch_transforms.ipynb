{
 "cells": [
  {
   "cell_type": "code",
   "execution_count": 2,
   "metadata": {},
   "outputs": [],
   "source": [
    "import pandas as pd"
   ]
  },
  {
   "cell_type": "code",
   "execution_count": 3,
   "metadata": {},
   "outputs": [],
   "source": [
    "import os\n",
    "\n",
    "DATA_DIR = 'data/train-scene classification'\n",
    "MODEL_DIR = \"models\"\n",
    "\n",
    "IMG_DIR = os.path.join(DATA_DIR, 'train')\n",
    "\n",
    "TRAIN_CSV = os.path.join(DATA_DIR, 'train.csv')\n",
    "TEST_CSV = \"data/test_WyRytb0.csv\"\n",
    "\n",
    "image = 'image_name'\n",
    "label = 'label'\n",
    "\n",
    "H = W = 150\n",
    "ORIG_H = ORIG_W = 150"
   ]
  },
  {
   "cell_type": "code",
   "execution_count": 4,
   "metadata": {},
   "outputs": [
    {
     "data": {
      "text/html": [
       "<div>\n",
       "<style scoped>\n",
       "    .dataframe tbody tr th:only-of-type {\n",
       "        vertical-align: middle;\n",
       "    }\n",
       "\n",
       "    .dataframe tbody tr th {\n",
       "        vertical-align: top;\n",
       "    }\n",
       "\n",
       "    .dataframe thead th {\n",
       "        text-align: right;\n",
       "    }\n",
       "</style>\n",
       "<table border=\"1\" class=\"dataframe\">\n",
       "  <thead>\n",
       "    <tr style=\"text-align: right;\">\n",
       "      <th></th>\n",
       "      <th>image_name</th>\n",
       "      <th>label</th>\n",
       "    </tr>\n",
       "  </thead>\n",
       "  <tbody>\n",
       "    <tr>\n",
       "      <th>0</th>\n",
       "      <td>0.jpg</td>\n",
       "      <td>0</td>\n",
       "    </tr>\n",
       "    <tr>\n",
       "      <th>1</th>\n",
       "      <td>1.jpg</td>\n",
       "      <td>4</td>\n",
       "    </tr>\n",
       "    <tr>\n",
       "      <th>2</th>\n",
       "      <td>2.jpg</td>\n",
       "      <td>5</td>\n",
       "    </tr>\n",
       "    <tr>\n",
       "      <th>3</th>\n",
       "      <td>4.jpg</td>\n",
       "      <td>0</td>\n",
       "    </tr>\n",
       "    <tr>\n",
       "      <th>4</th>\n",
       "      <td>7.jpg</td>\n",
       "      <td>4</td>\n",
       "    </tr>\n",
       "  </tbody>\n",
       "</table>\n",
       "</div>"
      ],
      "text/plain": [
       "  image_name  label\n",
       "0      0.jpg      0\n",
       "1      1.jpg      4\n",
       "2      2.jpg      5\n",
       "3      4.jpg      0\n",
       "4      7.jpg      4"
      ]
     },
     "execution_count": 4,
     "metadata": {},
     "output_type": "execute_result"
    }
   ],
   "source": [
    "train_data = pd.read_csv(TRAIN_CSV)\n",
    "train_data.head()"
   ]
  },
  {
   "cell_type": "code",
   "execution_count": 5,
   "metadata": {},
   "outputs": [
    {
     "data": {
      "text/plain": [
       "3    3037\n",
       "2    2957\n",
       "5    2883\n",
       "4    2784\n",
       "1    2745\n",
       "0    2628\n",
       "Name: label, dtype: int64"
      ]
     },
     "execution_count": 5,
     "metadata": {},
     "output_type": "execute_result"
    }
   ],
   "source": [
    "train_data[label].value_counts()"
   ]
  },
  {
   "cell_type": "code",
   "execution_count": 6,
   "metadata": {},
   "outputs": [],
   "source": [
    "test_data = pd.read_csv(TEST_CSV)"
   ]
  },
  {
   "cell_type": "code",
   "execution_count": 7,
   "metadata": {},
   "outputs": [
    {
     "data": {
      "text/plain": [
       "(150, 150)"
      ]
     },
     "execution_count": 7,
     "metadata": {},
     "output_type": "execute_result"
    }
   ],
   "source": [
    "from PIL import Image\n",
    "img = Image.open(\"data/train-scene classification/train/\"+\"2.jpg\")\n",
    "img.size"
   ]
  },
  {
   "cell_type": "code",
   "execution_count": 8,
   "metadata": {},
   "outputs": [],
   "source": [
    "# for i,row in train_data.iterrows():\n",
    "#     img = Image.open(\"data/train-scene classification/train/\"+row[\"image_name\"])\n",
    "#     if img.size!=(150,150):\n",
    "#         print(row[\"image_name\"],img.size)"
   ]
  },
  {
   "cell_type": "code",
   "execution_count": 21,
   "metadata": {},
   "outputs": [],
   "source": [
    "import os\n",
    "import numpy as np\n",
    "import matplotlib.pyplot as plt\n",
    "import pandas as pd\n",
    "import torch\n",
    "import torchvision.transforms.functional as Func\n",
    "from torch.utils import data\n",
    "from torchvision import transforms, utils\n",
    "\n",
    "import tqdm\n",
    "from torch.autograd import Variable\n",
    "from sklearn.model_selection import train_test_split\n",
    "\n",
    "class AVDataset(data.Dataset):\n",
    "    def __init__(self, IMG_DIR, file_list, is_test = False, transform=None):\n",
    "        self.is_test = is_test\n",
    "        self.root_path = IMG_DIR\n",
    "        self.file_list = file_list\n",
    "        self.transform = transform\n",
    "    \n",
    "    def __len__(self):\n",
    "        return len(self.file_list)\n",
    "    \n",
    "    def __getitem__(self, index):\n",
    "        if index not in range(0, len(self.file_list)):\n",
    "            return self.__getitem__(np.random.randint(0, self.__len__()))\n",
    "        \n",
    "        file_id = self.file_list[index]\n",
    "        \n",
    "        image_path = os.path.join(self.root_path, file_id[0])\n",
    "        \n",
    "        image = load_image(image_path)\n",
    "        if self.transform:\n",
    "            image = self.transform(image)\n",
    "            \n",
    "        if self.is_test==True:\n",
    "            return image\n",
    "        else:\n",
    "            return image,file_id[1]"
   ]
  },
  {
   "cell_type": "code",
   "execution_count": 22,
   "metadata": {},
   "outputs": [],
   "source": [
    "transforms = transforms.Compose([\n",
    "    transforms.ColorJitter(hue=.05, saturation=.05),\n",
    "    transforms.RandomHorizontalFlip()\n",
    "])"
   ]
  },
  {
   "cell_type": "code",
   "execution_count": 23,
   "metadata": {},
   "outputs": [],
   "source": [
    "%matplotlib inline\n",
    "import cv2\n",
    "import matplotlib.pyplot as plt\n",
    "def load_image(path):\n",
    "    \"\"\"\n",
    "    Load image from a given path and pad it on the sides, so that eash side is divisible by 32 (newtwork requirement)\n",
    "    \n",
    "    if pad = True:\n",
    "        returns image as numpy.array, tuple with padding in pixels as(x_min_pad, y_min_pad, x_max_pad, y_max_pad)\n",
    "    else:\n",
    "        returns image as numpy.array\n",
    "    \"\"\"\n",
    "    img = cv2.imread(str(path))\n",
    "    img = cv2.cvtColor(img,cv2.COLOR_BGR2RGB)\n",
    "#     print(img.shape)\n",
    "    if img.shape != (150,150,3):\n",
    "        img = cv2.resize(img, (150,150), interpolation = cv2.INTER_AREA)\n",
    "#     print(img.shape)\n",
    "#     plt.imshow(img)\n",
    "#     plt.show()\n",
    "#     if h_flip:\n",
    "#         img = cv2.flip( img, 1 )\n",
    "#     if crop:\n",
    "#         img = random_crop_resize(img,scale=ratio)\n",
    "    \n",
    "#     if brightness:\n",
    "#         img = increase_brightness(img)\n",
    "    return torch.from_numpy(img).float().permute([2, 0, 1])"
   ]
  },
  {
   "cell_type": "code",
   "execution_count": 24,
   "metadata": {},
   "outputs": [
    {
     "data": {
      "text/plain": [
       "torch.Size([3, 150, 150])"
      ]
     },
     "execution_count": 24,
     "metadata": {},
     "output_type": "execute_result"
    }
   ],
   "source": [
    "load_image(os.path.join(IMG_DIR, \"357.jpg\")).shape"
   ]
  },
  {
   "cell_type": "code",
   "execution_count": 25,
   "metadata": {},
   "outputs": [],
   "source": [
    "def create_file_list(dataframe):\n",
    "    return [tuple(x) for x in dataframe.values]"
   ]
  },
  {
   "cell_type": "code",
   "execution_count": 26,
   "metadata": {},
   "outputs": [
    {
     "name": "stdout",
     "output_type": "stream",
     "text": [
      "(16182, 2) (852, 2)\n"
     ]
    }
   ],
   "source": [
    "from sklearn.model_selection import train_test_split\n",
    "train,val = train_test_split(train_data, test_size=0.05, stratify=train_data[label],random_state=42)\n",
    "print(train.shape,val.shape)"
   ]
  },
  {
   "cell_type": "code",
   "execution_count": 27,
   "metadata": {},
   "outputs": [],
   "source": [
    "file_list_train = create_file_list(train)\n",
    "file_list_val = create_file_list(val)"
   ]
  },
  {
   "cell_type": "code",
   "execution_count": 28,
   "metadata": {},
   "outputs": [],
   "source": [
    "import matplotlib.pyplot as plt\n",
    "%matplotlib inline\n",
    "\n",
    "import matplotlib as mpl\n",
    "mpl.rcParams['axes.grid'] = False\n",
    "mpl.rcParams['image.interpolation'] = 'nearest'\n",
    "mpl.rcParams['figure.figsize'] = 15, 25\n",
    "\n",
    "def show_dataset(dataset, n=6):\n",
    "    img = np.vstack((np.hstack((np.asarray(dataset[i][0]) for _ in range(n)))\n",
    "                   for i in range(len(dataset))))\n",
    "    plt.imshow(img)\n",
    "    plt.axis('off')"
   ]
  },
  {
   "cell_type": "code",
   "execution_count": 29,
   "metadata": {},
   "outputs": [],
   "source": [
    "dataset = torch.utils.data.ConcatDataset([AVDataset(IMG_DIR, file_list_train,transform=transforms)])"
   ]
  },
  {
   "cell_type": "code",
   "execution_count": 14,
   "metadata": {},
   "outputs": [
    {
     "data": {
      "text/plain": [
       "32364"
      ]
     },
     "execution_count": 14,
     "metadata": {},
     "output_type": "execute_result"
    }
   ],
   "source": [
    "dataset = torch.utils.data.ConcatDataset([AVDataset(IMG_DIR, file_list_train), AVDataset(IMG_DIR, file_list_train, h_flip=True)])\n",
    "val_dataset = torch.utils.data.ConcatDataset([AVDataset(IMG_DIR, file_list_val),  AVDataset(IMG_DIR, file_list_val, h_flip=True)])\n",
    "len(dataset)"
   ]
  },
  {
   "cell_type": "code",
   "execution_count": 15,
   "metadata": {},
   "outputs": [],
   "source": [
    "import torch\n",
    "from torch import nn\n",
    "from pathlib import Path\n",
    "from torch.nn import functional as F\n",
    "from torchvision import models\n",
    "from torchvision.transforms import ToTensor, Normalize, Compose\n",
    "import cv2\n",
    "from pathlib import Path"
   ]
  },
  {
   "cell_type": "code",
   "execution_count": 16,
   "metadata": {},
   "outputs": [],
   "source": [
    "from cnn_finetune import make_model\n",
    "model = make_model('resnet34', num_classes=6, pretrained=True, input_size=(150, 150))"
   ]
  },
  {
   "cell_type": "code",
   "execution_count": 17,
   "metadata": {},
   "outputs": [
    {
     "name": "stdout",
     "output_type": "stream",
     "text": [
      "----------------------------------------------------------------\n",
      "        Layer (type)               Output Shape         Param #\n",
      "================================================================\n",
      "            Conv2d-1           [-1, 64, 75, 75]           9,408\n",
      "       BatchNorm2d-2           [-1, 64, 75, 75]             128\n",
      "              ReLU-3           [-1, 64, 75, 75]               0\n",
      "         MaxPool2d-4           [-1, 64, 38, 38]               0\n",
      "            Conv2d-5           [-1, 64, 38, 38]          36,864\n",
      "       BatchNorm2d-6           [-1, 64, 38, 38]             128\n",
      "              ReLU-7           [-1, 64, 38, 38]               0\n",
      "            Conv2d-8           [-1, 64, 38, 38]          36,864\n",
      "       BatchNorm2d-9           [-1, 64, 38, 38]             128\n",
      "             ReLU-10           [-1, 64, 38, 38]               0\n",
      "       BasicBlock-11           [-1, 64, 38, 38]               0\n",
      "           Conv2d-12           [-1, 64, 38, 38]          36,864\n",
      "      BatchNorm2d-13           [-1, 64, 38, 38]             128\n",
      "             ReLU-14           [-1, 64, 38, 38]               0\n",
      "           Conv2d-15           [-1, 64, 38, 38]          36,864\n",
      "      BatchNorm2d-16           [-1, 64, 38, 38]             128\n",
      "             ReLU-17           [-1, 64, 38, 38]               0\n",
      "       BasicBlock-18           [-1, 64, 38, 38]               0\n",
      "           Conv2d-19           [-1, 64, 38, 38]          36,864\n",
      "      BatchNorm2d-20           [-1, 64, 38, 38]             128\n",
      "             ReLU-21           [-1, 64, 38, 38]               0\n",
      "           Conv2d-22           [-1, 64, 38, 38]          36,864\n",
      "      BatchNorm2d-23           [-1, 64, 38, 38]             128\n",
      "             ReLU-24           [-1, 64, 38, 38]               0\n",
      "       BasicBlock-25           [-1, 64, 38, 38]               0\n",
      "           Conv2d-26          [-1, 128, 19, 19]          73,728\n",
      "      BatchNorm2d-27          [-1, 128, 19, 19]             256\n",
      "             ReLU-28          [-1, 128, 19, 19]               0\n",
      "           Conv2d-29          [-1, 128, 19, 19]         147,456\n",
      "      BatchNorm2d-30          [-1, 128, 19, 19]             256\n",
      "           Conv2d-31          [-1, 128, 19, 19]           8,192\n",
      "      BatchNorm2d-32          [-1, 128, 19, 19]             256\n",
      "             ReLU-33          [-1, 128, 19, 19]               0\n",
      "       BasicBlock-34          [-1, 128, 19, 19]               0\n",
      "           Conv2d-35          [-1, 128, 19, 19]         147,456\n",
      "      BatchNorm2d-36          [-1, 128, 19, 19]             256\n",
      "             ReLU-37          [-1, 128, 19, 19]               0\n",
      "           Conv2d-38          [-1, 128, 19, 19]         147,456\n",
      "      BatchNorm2d-39          [-1, 128, 19, 19]             256\n",
      "             ReLU-40          [-1, 128, 19, 19]               0\n",
      "       BasicBlock-41          [-1, 128, 19, 19]               0\n",
      "           Conv2d-42          [-1, 128, 19, 19]         147,456\n",
      "      BatchNorm2d-43          [-1, 128, 19, 19]             256\n",
      "             ReLU-44          [-1, 128, 19, 19]               0\n",
      "           Conv2d-45          [-1, 128, 19, 19]         147,456\n",
      "      BatchNorm2d-46          [-1, 128, 19, 19]             256\n",
      "             ReLU-47          [-1, 128, 19, 19]               0\n",
      "       BasicBlock-48          [-1, 128, 19, 19]               0\n",
      "           Conv2d-49          [-1, 128, 19, 19]         147,456\n",
      "      BatchNorm2d-50          [-1, 128, 19, 19]             256\n",
      "             ReLU-51          [-1, 128, 19, 19]               0\n",
      "           Conv2d-52          [-1, 128, 19, 19]         147,456\n",
      "      BatchNorm2d-53          [-1, 128, 19, 19]             256\n",
      "             ReLU-54          [-1, 128, 19, 19]               0\n",
      "       BasicBlock-55          [-1, 128, 19, 19]               0\n",
      "           Conv2d-56          [-1, 256, 10, 10]         294,912\n",
      "      BatchNorm2d-57          [-1, 256, 10, 10]             512\n",
      "             ReLU-58          [-1, 256, 10, 10]               0\n",
      "           Conv2d-59          [-1, 256, 10, 10]         589,824\n",
      "      BatchNorm2d-60          [-1, 256, 10, 10]             512\n",
      "           Conv2d-61          [-1, 256, 10, 10]          32,768\n",
      "      BatchNorm2d-62          [-1, 256, 10, 10]             512\n",
      "             ReLU-63          [-1, 256, 10, 10]               0\n",
      "       BasicBlock-64          [-1, 256, 10, 10]               0\n",
      "           Conv2d-65          [-1, 256, 10, 10]         589,824\n",
      "      BatchNorm2d-66          [-1, 256, 10, 10]             512\n",
      "             ReLU-67          [-1, 256, 10, 10]               0\n",
      "           Conv2d-68          [-1, 256, 10, 10]         589,824\n",
      "      BatchNorm2d-69          [-1, 256, 10, 10]             512\n",
      "             ReLU-70          [-1, 256, 10, 10]               0\n",
      "       BasicBlock-71          [-1, 256, 10, 10]               0\n",
      "           Conv2d-72          [-1, 256, 10, 10]         589,824\n",
      "      BatchNorm2d-73          [-1, 256, 10, 10]             512\n",
      "             ReLU-74          [-1, 256, 10, 10]               0\n",
      "           Conv2d-75          [-1, 256, 10, 10]         589,824\n",
      "      BatchNorm2d-76          [-1, 256, 10, 10]             512\n",
      "             ReLU-77          [-1, 256, 10, 10]               0\n",
      "       BasicBlock-78          [-1, 256, 10, 10]               0\n",
      "           Conv2d-79          [-1, 256, 10, 10]         589,824\n",
      "      BatchNorm2d-80          [-1, 256, 10, 10]             512\n",
      "             ReLU-81          [-1, 256, 10, 10]               0\n",
      "           Conv2d-82          [-1, 256, 10, 10]         589,824\n",
      "      BatchNorm2d-83          [-1, 256, 10, 10]             512\n",
      "             ReLU-84          [-1, 256, 10, 10]               0\n",
      "       BasicBlock-85          [-1, 256, 10, 10]               0\n",
      "           Conv2d-86          [-1, 256, 10, 10]         589,824\n",
      "      BatchNorm2d-87          [-1, 256, 10, 10]             512\n",
      "             ReLU-88          [-1, 256, 10, 10]               0\n",
      "           Conv2d-89          [-1, 256, 10, 10]         589,824\n",
      "      BatchNorm2d-90          [-1, 256, 10, 10]             512\n",
      "             ReLU-91          [-1, 256, 10, 10]               0\n",
      "       BasicBlock-92          [-1, 256, 10, 10]               0\n",
      "           Conv2d-93          [-1, 256, 10, 10]         589,824\n",
      "      BatchNorm2d-94          [-1, 256, 10, 10]             512\n",
      "             ReLU-95          [-1, 256, 10, 10]               0\n",
      "           Conv2d-96          [-1, 256, 10, 10]         589,824\n",
      "      BatchNorm2d-97          [-1, 256, 10, 10]             512\n",
      "             ReLU-98          [-1, 256, 10, 10]               0\n",
      "       BasicBlock-99          [-1, 256, 10, 10]               0\n",
      "          Conv2d-100            [-1, 512, 5, 5]       1,179,648\n",
      "     BatchNorm2d-101            [-1, 512, 5, 5]           1,024\n",
      "            ReLU-102            [-1, 512, 5, 5]               0\n",
      "          Conv2d-103            [-1, 512, 5, 5]       2,359,296\n",
      "     BatchNorm2d-104            [-1, 512, 5, 5]           1,024\n",
      "          Conv2d-105            [-1, 512, 5, 5]         131,072\n",
      "     BatchNorm2d-106            [-1, 512, 5, 5]           1,024\n",
      "            ReLU-107            [-1, 512, 5, 5]               0\n",
      "      BasicBlock-108            [-1, 512, 5, 5]               0\n",
      "          Conv2d-109            [-1, 512, 5, 5]       2,359,296\n",
      "     BatchNorm2d-110            [-1, 512, 5, 5]           1,024\n",
      "            ReLU-111            [-1, 512, 5, 5]               0\n",
      "          Conv2d-112            [-1, 512, 5, 5]       2,359,296\n",
      "     BatchNorm2d-113            [-1, 512, 5, 5]           1,024\n",
      "            ReLU-114            [-1, 512, 5, 5]               0\n",
      "      BasicBlock-115            [-1, 512, 5, 5]               0\n",
      "          Conv2d-116            [-1, 512, 5, 5]       2,359,296\n",
      "     BatchNorm2d-117            [-1, 512, 5, 5]           1,024\n",
      "            ReLU-118            [-1, 512, 5, 5]               0\n",
      "          Conv2d-119            [-1, 512, 5, 5]       2,359,296\n",
      "     BatchNorm2d-120            [-1, 512, 5, 5]           1,024\n",
      "            ReLU-121            [-1, 512, 5, 5]               0\n",
      "      BasicBlock-122            [-1, 512, 5, 5]               0\n",
      "AdaptiveAvgPool2d-123            [-1, 512, 1, 1]               0\n",
      "          Linear-124                    [-1, 6]           3,078\n",
      "================================================================\n",
      "Total params: 21,287,750\n",
      "Trainable params: 21,287,750\n",
      "Non-trainable params: 0\n",
      "----------------------------------------------------------------\n",
      "Input size (MB): 0.26\n",
      "Forward/backward pass size (MB): 45.17\n",
      "Params size (MB): 81.21\n",
      "Estimated Total Size (MB): 126.64\n",
      "----------------------------------------------------------------\n"
     ]
    }
   ],
   "source": [
    "import torch\n",
    "from torchvision import models\n",
    "from torchsummary import summary\n",
    "\n",
    "device = torch.device('cuda' if torch.cuda.is_available() else 'cpu')\n",
    "vgg = model.to(device)\n",
    "\n",
    "summary(vgg, (3, 150, 150))"
   ]
  },
  {
   "cell_type": "code",
   "execution_count": 18,
   "metadata": {},
   "outputs": [
    {
     "name": "stderr",
     "output_type": "stream",
     "text": [
      "  0%|          | 0/2023 [00:00<?, ?it/s]"
     ]
    },
    {
     "name": "stdout",
     "output_type": "stream",
     "text": [
      "learning_rate 0.001\n"
     ]
    },
    {
     "name": "stderr",
     "output_type": "stream",
     "text": [
      "100%|██████████| 2023/2023 [16:47<00:00,  2.01it/s]\n",
      "  0%|          | 0/2023 [00:00<?, ?it/s]"
     ]
    },
    {
     "name": "stdout",
     "output_type": "stream",
     "text": [
      "Epoch: 0, Train loss: 0.282,  Val loss: 0.329\n",
      "learning_rate 0.001\n"
     ]
    },
    {
     "name": "stderr",
     "output_type": "stream",
     "text": [
      "100%|██████████| 2023/2023 [10:00<00:00,  3.37it/s]\n"
     ]
    },
    {
     "name": "stdout",
     "output_type": "stream",
     "text": [
      "Epoch: 1, Train loss: 0.129,  Val loss: 0.327\n"
     ]
    }
   ],
   "source": [
    "learning_rate = 1e-3\n",
    "optimizer = torch.optim.SGD(model.parameters(), lr=learning_rate,momentum=0.9)\n",
    "# criterion = nn.CrossEntropyLoss()\n",
    "# m = nn.LogSoftmax()\n",
    "criterion =  nn.CrossEntropyLoss()\n",
    "epoch=2\n",
    "for e in range(epoch):\n",
    "#     learning_rate = cyclic_lr(e)\n",
    "    print(\"learning_rate\",learning_rate)\n",
    "    train_loss = []\n",
    "    train_acc = []\n",
    "    for image, mask in tqdm.tqdm(data.DataLoader(dataset, batch_size = 16,shuffle=True, num_workers=6)):\n",
    "        \n",
    "        optimizer.zero_grad()\n",
    "        \n",
    "        image = image.type(torch.FloatTensor).cuda()\n",
    "        y_pred = model(Variable(image))\n",
    "        loss = criterion(y_pred, Variable(mask.cuda()))\n",
    "        \n",
    "        loss.backward()\n",
    "\n",
    "        optimizer.step()\n",
    "        train_loss.append(loss.item())\n",
    "        \n",
    "    val_loss = []\n",
    "    val_acc =[]\n",
    "    for image, mask in data.DataLoader(val_dataset, batch_size = 8, shuffle = True):\n",
    "        image = image.cuda()\n",
    "        y_pred = model(Variable(image))\n",
    "\n",
    "        loss = criterion(y_pred, Variable(mask.cuda()))\n",
    "        val_loss.append(loss.item())\n",
    "        \n",
    "    print(\"Epoch: %d, Train loss: %.3f,  Val loss: %.3f\" % (e, np.mean(train_loss), np.mean(val_loss)))\n",
    "#     print(\"Train acc: %.3f, Val acc: %.3f\" %(np.mean(train_acc),np.mean(val_acc)))"
   ]
  },
  {
   "cell_type": "code",
   "execution_count": 19,
   "metadata": {},
   "outputs": [
    {
     "data": {
      "text/plain": [
       "[('3.jpg',), ('5.jpg',), ('6.jpg',), ('11.jpg',)]"
      ]
     },
     "execution_count": 19,
     "metadata": {},
     "output_type": "execute_result"
    }
   ],
   "source": [
    "test_file_list = create_file_list(test_data)\n",
    "test_file_list[:4]"
   ]
  },
  {
   "cell_type": "code",
   "execution_count": 20,
   "metadata": {},
   "outputs": [
    {
     "name": "stdout",
     "output_type": "stream",
     "text": [
      "7301\n"
     ]
    }
   ],
   "source": [
    "print(len(test_file_list))\n",
    "test_dataset = AVDataset(IMG_DIR, test_file_list, is_test = True)"
   ]
  },
  {
   "cell_type": "code",
   "execution_count": 21,
   "metadata": {},
   "outputs": [
    {
     "name": "stderr",
     "output_type": "stream",
     "text": [
      "100%|██████████| 7301/7301 [01:35<00:00, 76.29it/s]\n"
     ]
    }
   ],
   "source": [
    "all_predictions = []\n",
    "model.eval()\n",
    "for image in tqdm.tqdm(data.DataLoader(test_dataset, batch_size = 1)):\n",
    "    image = image.type(torch.FloatTensor).cuda()\n",
    "    y_pred = model(Variable(image))#.cpu().data.numpy()\n",
    "    _,predicted = torch.max(y_pred,1)\n",
    "#     print(predicted[0].cpu().data.numpy())\n",
    "    all_predictions.append(predicted[0].cpu().data.numpy())\n",
    "#     all_predictions.append(y_pred)\n",
    "# all_predictions_stacked = np.vstack(all_predictions)[:, 0, :, :]"
   ]
  },
  {
   "cell_type": "code",
   "execution_count": 22,
   "metadata": {},
   "outputs": [
    {
     "data": {
      "image/png": "[encoded data removed]",
      "text/plain": [
       "<PIL.JpegImagePlugin.JpegImageFile image mode=RGB size=150x150 at 0x7F889CD863C8>"
      ]
     },
     "execution_count": 22,
     "metadata": {},
     "output_type": "execute_result"
    }
   ],
   "source": [
    "Image.open(\"data/train-scene classification/train/\"+test_file_list[2][0])"
   ]
  },
  {
   "cell_type": "code",
   "execution_count": 23,
   "metadata": {},
   "outputs": [],
   "source": [
    "def show_img_by_class(df,class_num):\n",
    "    return Image.open(\"data/train-scene classification/train/{}\".format(df[df[\"label\"]==class_num][\"image_name\"].values[0]))"
   ]
  },
  {
   "cell_type": "code",
   "execution_count": 24,
   "metadata": {},
   "outputs": [
    {
     "data": {
      "image/png": "[encoded data removed]",
      "text/plain": [
       "<PIL.JpegImagePlugin.JpegImageFile image mode=RGB size=150x150 at 0x7F889CD865F8>"
      ]
     },
     "execution_count": 24,
     "metadata": {},
     "output_type": "execute_result"
    }
   ],
   "source": [
    "show_img_by_class(train_data,0)"
   ]
  },
  {
   "cell_type": "code",
   "execution_count": 25,
   "metadata": {},
   "outputs": [
    {
     "data": {
      "text/plain": [
       "(7301, [array(5), array(0), array(4), array(2), array(5)])"
      ]
     },
     "execution_count": 25,
     "metadata": {},
     "output_type": "execute_result"
    }
   ],
   "source": [
    "len(all_predictions), all_predictions[:5]"
   ]
  },
  {
   "cell_type": "code",
   "execution_count": 26,
   "metadata": {},
   "outputs": [
    {
     "data": {
      "text/html": [
       "<div>\n",
       "<style scoped>\n",
       "    .dataframe tbody tr th:only-of-type {\n",
       "        vertical-align: middle;\n",
       "    }\n",
       "\n",
       "    .dataframe tbody tr th {\n",
       "        vertical-align: top;\n",
       "    }\n",
       "\n",
       "    .dataframe thead th {\n",
       "        text-align: right;\n",
       "    }\n",
       "</style>\n",
       "<table border=\"1\" class=\"dataframe\">\n",
       "  <thead>\n",
       "    <tr style=\"text-align: right;\">\n",
       "      <th></th>\n",
       "      <th>image_name</th>\n",
       "    </tr>\n",
       "  </thead>\n",
       "  <tbody>\n",
       "    <tr>\n",
       "      <th>0</th>\n",
       "      <td>3.jpg</td>\n",
       "    </tr>\n",
       "    <tr>\n",
       "      <th>1</th>\n",
       "      <td>5.jpg</td>\n",
       "    </tr>\n",
       "    <tr>\n",
       "      <th>2</th>\n",
       "      <td>6.jpg</td>\n",
       "    </tr>\n",
       "    <tr>\n",
       "      <th>3</th>\n",
       "      <td>11.jpg</td>\n",
       "    </tr>\n",
       "    <tr>\n",
       "      <th>4</th>\n",
       "      <td>14.jpg</td>\n",
       "    </tr>\n",
       "  </tbody>\n",
       "</table>\n",
       "</div>"
      ],
      "text/plain": [
       "  image_name\n",
       "0      3.jpg\n",
       "1      5.jpg\n",
       "2      6.jpg\n",
       "3     11.jpg\n",
       "4     14.jpg"
      ]
     },
     "execution_count": 26,
     "metadata": {},
     "output_type": "execute_result"
    }
   ],
   "source": [
    "test_data.head()"
   ]
  },
  {
   "cell_type": "code",
   "execution_count": 27,
   "metadata": {},
   "outputs": [],
   "source": [
    "sub = test_data\n",
    "sub[\"label\"] = all_predictions"
   ]
  },
  {
   "cell_type": "code",
   "execution_count": 28,
   "metadata": {},
   "outputs": [],
   "source": [
    "sub.to_csv(\"rnet34_epo_2_horizontal_aug.csv\",index=False)"
   ]
  },
  {
   "cell_type": "code",
   "execution_count": null,
   "metadata": {},
   "outputs": [],
   "source": []
  }
 ],
 "metadata": {
  "kernelspec": {
   "display_name": "Python 3",
   "language": "python",
   "name": "python3"
  },
  "language_info": {
   "codemirror_mode": {
    "name": "ipython",
    "version": 3
   },
   "file_extension": ".py",
   "mimetype": "text/x-python",
   "name": "python",
   "nbconvert_exporter": "python",
   "pygments_lexer": "ipython3",
   "version": "3.6.7"
  }
 },
 "nbformat": 4,
 "nbformat_minor": 2
}
