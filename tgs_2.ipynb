{
 "cells": [
  {
   "cell_type": "markdown",
   "metadata": {},
   "source": [
    "# Image Augmentation\n",
    "##### Horizontal Flip\n",
    "##### Zoom\n",
    "##### shear"
   ]
  },
  {
   "cell_type": "code",
   "execution_count": 1,
   "metadata": {},
   "outputs": [],
   "source": [
    "import torch\n",
    "from torch import nn\n",
    "from pathlib import Path\n",
    "from torch.nn import functional as F\n",
    "from torchvision import models\n",
    "from torchvision.transforms import ToTensor, Normalize, Compose\n",
    "import cv2\n",
    "from pathlib import Path"
   ]
  },
  {
   "cell_type": "code",
   "execution_count": 2,
   "metadata": {},
   "outputs": [],
   "source": [
    "directory = '../data'\n",
    "device = \"cuda\""
   ]
  },
  {
   "cell_type": "code",
   "execution_count": 3,
   "metadata": {},
   "outputs": [],
   "source": [
    "from TernausNet.unet_models import UNetResNet34,UNet11_bn_dilated,UNet11_bn,UNet11_bn_v2\n",
    "from lovasz_loss import lovasz_hinge\n",
    "\n",
    "save_dir = \"vgg_dil\"\n",
    "def unet_model(**kwargs):\n",
    "    model = UNet11_bn_dilated(**kwargs)\n",
    "\n",
    "    return model\n",
    "\n",
    "def get_model():\n",
    "    model = unet_model()\n",
    "    model.train()\n",
    "    return model.cuda()\n",
    "\n",
    "class Loss:\n",
    "    def __init__(self, dice_weight=1):\n",
    "        self.nll_loss = nn.BCELoss()\n",
    "        self.dice_weight = dice_weight\n",
    "\n",
    "    def __call__(self, outputs, targets):\n",
    "        loss = self.nll_loss(outputs, targets)\n",
    "        if self.dice_weight:\n",
    "            eps = 1e-15\n",
    "            dice_target = (targets == 1).float()\n",
    "            dice_output = outputs\n",
    "            intersection = (dice_output * dice_target).sum()\n",
    "            union = dice_output.sum() + dice_target.sum() + eps\n",
    "\n",
    "            dice_loss = 1 - (2 * intersection / union)\n",
    "\n",
    "        return loss - torch.log(dice_loss)\n",
    "    \n",
    "class RobustFocalLoss2d(nn.Module):\n",
    "    #assume top 10% is outliers\n",
    "    def __init__(self, gamma=2, size_average=True):\n",
    "        super(RobustFocalLoss2d, self).__init__()\n",
    "        self.gamma = gamma\n",
    "        self.size_average = size_average\n",
    "\n",
    "\n",
    "    def forward(self, logit, target, class_weight=None, type='softmax'):\n",
    "        target = target.view(-1, 1).long()\n",
    "\n",
    "\n",
    "        if type=='sigmoid':\n",
    "            if class_weight is None:\n",
    "                class_weight = [1]*2 #[0.5, 0.5]\n",
    "\n",
    "#             prob   = F.sigmoid(logit)\n",
    "            prob=logit\n",
    "            prob   = prob.view(-1, 1)\n",
    "            prob   = torch.cat((1-prob, prob), 1)\n",
    "            select = torch.FloatTensor(len(prob), 2).zero_().cuda()\n",
    "            select.scatter_(1, target, 1.)\n",
    "\n",
    "        elif  type=='softmax':\n",
    "            B,C,H,W = logit.size()\n",
    "            if class_weight is None:\n",
    "                class_weight =[1]*C #[1/C]*C\n",
    "\n",
    "            logit   = logit.permute(0, 2, 3, 1).contiguous().view(-1, C)\n",
    "            prob    = F.softmax(logit,1)\n",
    "            select  = torch.FloatTensor(len(prob), C).zero_().cuda()\n",
    "            select.scatter_(1, target, 1.)\n",
    "\n",
    "        class_weight = torch.FloatTensor(class_weight).cuda().view(-1,1)\n",
    "        class_weight = torch.gather(class_weight, 0, target)\n",
    "\n",
    "        prob  = (prob*select).sum(1).view(-1,1)\n",
    "        prob  = torch.clamp(prob,1e-8,1-1e-8)\n",
    "\n",
    "        focus = torch.pow((1-prob), self.gamma)\n",
    "        #focus = torch.where(focus < 2.0, focus, torch.zeros(prob.size()).cuda())\n",
    "        focus = torch.clamp(focus,0,2)\n",
    "\n",
    "\n",
    "        batch_loss = - class_weight *focus*prob.log()\n",
    "\n",
    "        if self.size_average:\n",
    "            loss = batch_loss.mean()\n",
    "        else:\n",
    "            loss = batch_loss\n",
    "\n",
    "        return loss\n",
    "    \n",
    "def accuracy(prob, truth, threshold=0.5,  is_average=True):\n",
    "    batch_size = prob.size(0)\n",
    "    p = prob.detach().view(batch_size,-1)\n",
    "    t = truth.detach().view(batch_size,-1)\n",
    "\n",
    "    p = p>threshold\n",
    "    t = t>0.5\n",
    "    correct = ( p == t).float()\n",
    "    accuracy = correct.sum(1)/p.size(1)\n",
    "\n",
    "    if is_average:\n",
    "        accuracy = accuracy.sum()/batch_size\n",
    "        return accuracy\n",
    "    else:\n",
    "        return accuracy\n",
    "    \n",
    "import numpy as np # linear algebra\n",
    "\n",
    "def get_iou_vector(A, B):\n",
    "    batch_size = A.shape[0]\n",
    "    metric = []\n",
    "    for batch in range(batch_size):\n",
    "        t, p = A[batch].squeeze(1), B[batch].squeeze(1)\n",
    "        if np.count_nonzero(t) == 0 and np.count_nonzero(p) > 0:\n",
    "            metric.append(0)\n",
    "            continue\n",
    "        if np.count_nonzero(t) == 0 and np.count_nonzero(p) == 0:\n",
    "            metric.append(1)\n",
    "            continue\n",
    "\n",
    "        iou = jaccard(t, p)\n",
    "        thresholds = np.arange(0.5, 1, 0.05)\n",
    "        s = []\n",
    "        for thresh in thresholds:\n",
    "            s.append(iou > thresh)\n",
    "        metric.append(np.mean(s))\n",
    "\n",
    "    return np.mean(metric)\n",
    "\n",
    "\n",
    "def jaccard(y_true, y_pred):\n",
    "    epsilon = 1e-15\n",
    "    intersection = (y_pred * y_true).sum(dim=-2).sum(dim=-1)\n",
    "    union = y_true.sum(dim=-2).sum(dim=-1) + y_pred.sum(dim=-2).sum(dim=-1)\n",
    "\n",
    "    return ((intersection + epsilon)/ (union - intersection + epsilon)).mean()"
   ]
  },
  {
   "cell_type": "code",
   "execution_count": 4,
   "metadata": {},
   "outputs": [],
   "source": [
    "import numpy as np\n",
    "def random_crop_resize(img, scale=0.75):\n",
    "    center_x, center_y = img.shape[1] / 2, img.shape[0] / 2\n",
    "    width_scaled, height_scaled = img.shape[1] * scale, img.shape[0] * scale\n",
    "    left_x, right_x = center_x - width_scaled / 2, center_x + width_scaled / 2\n",
    "    top_y, bottom_y = center_y - height_scaled / 2, center_y + height_scaled / 2\n",
    "    img_cropped = img[int(top_y):int(bottom_y), int(left_x):int(right_x)]\n",
    "    return cv2.resize(img_cropped,(101,101),interpolation = cv2.INTER_AREA)\n",
    "\n",
    "def increase_brightness(img):\n",
    "    hsv = cv2.cvtColor(img, cv2.COLOR_BGR2HSV)\n",
    "    h, s, v = cv2.split(hsv)\n",
    "    value =np.random.choice(range(-8,8), 1)[0].astype('uint8')\n",
    "    lim = 255 - value\n",
    "    v[v > lim] = 255\n",
    "    v[v <= lim] += value\n",
    "\n",
    "    final_hsv = cv2.merge((h, s, v))\n",
    "    img = cv2.cvtColor(final_hsv, cv2.COLOR_HSV2BGR)\n",
    "    return img\n"
   ]
  },
  {
   "cell_type": "code",
   "execution_count": 5,
   "metadata": {},
   "outputs": [],
   "source": [
    "def load_image(path, mask = False, h_flip=False, crop=False, brightness = False,ratio = 0.75):\n",
    "    \"\"\"\n",
    "    Load image from a given path and pad it on the sides, so that eash side is divisible by 32 (newtwork requirement)\n",
    "    \n",
    "    if pad = True:\n",
    "        returns image as numpy.array, tuple with padding in pixels as(x_min_pad, y_min_pad, x_max_pad, y_max_pad)\n",
    "    else:\n",
    "        returns image as numpy.array\n",
    "    \"\"\"\n",
    "    img = cv2.imread(str(path))\n",
    "    img = cv2.cvtColor(img, cv2.COLOR_BGR2RGB)\n",
    "    if h_flip:\n",
    "        img = cv2.flip( img, 1 )\n",
    "    if crop:\n",
    "        img = random_crop_resize(img,scale=ratio)\n",
    "    \n",
    "    if brightness:\n",
    "        img = increase_brightness(img)\n",
    "        \n",
    "    height, width, _ = img.shape\n",
    "\n",
    "    # Padding in needed for UNet models because they need image size to be divisible by 32 \n",
    "    if height % 32 == 0:\n",
    "        y_min_pad = 0\n",
    "        y_max_pad = 0\n",
    "    else:\n",
    "        y_pad = 32 - height % 32\n",
    "        y_min_pad = int(y_pad / 2)\n",
    "        y_max_pad = y_pad - y_min_pad\n",
    "        \n",
    "    if width % 32 == 0:\n",
    "        x_min_pad = 0\n",
    "        x_max_pad = 0\n",
    "    else:\n",
    "        x_pad = 32 - width % 32\n",
    "        x_min_pad = int(x_pad / 2)\n",
    "        x_max_pad = x_pad - x_min_pad\n",
    "    \n",
    "    img = cv2.copyMakeBorder(img, y_min_pad, y_max_pad, x_min_pad, x_max_pad,cv2.BORDER_REFLECT_101)\n",
    "    if mask:\n",
    "        # Convert mask to 0 and 1 format\n",
    "        img = img[:, :, 0:1] // 255\n",
    "        return torch.from_numpy(img).float().permute([2, 0, 1])\n",
    "    else:\n",
    "        img = img / 255.0\n",
    "        return torch.from_numpy(img).float().permute([2, 0, 1])"
   ]
  },
  {
   "cell_type": "code",
   "execution_count": 6,
   "metadata": {},
   "outputs": [
    {
     "data": {
      "image/png": "[encoded data removed]",
      "text/plain": [
       "<Figure size 432x288 with 1 Axes>"
      ]
     },
     "metadata": {},
     "output_type": "display_data"
    }
   ],
   "source": [
    "from matplotlib import pyplot as plt\n",
    "import cv2\n",
    "%matplotlib inline\n",
    "img = cv2.imread('../data/train/masks/0a1742c740.png')\n",
    "gray = cv2.cvtColor(img, cv2.COLOR_BGR2RGB)\n",
    "\n",
    "plt.imshow(gray)\n",
    "plt.title('my picture')\n",
    "plt.show()"
   ]
  },
  {
   "cell_type": "code",
   "execution_count": 7,
   "metadata": {},
   "outputs": [
    {
     "data": {
      "image/png": "[encoded data removed]",
      "text/plain": [
       "<Figure size 432x288 with 1 Axes>"
      ]
     },
     "metadata": {},
     "output_type": "display_data"
    }
   ],
   "source": [
    "img = cv2.imread('../data/train/images/0ba541766e.png')\n",
    "gray = cv2.cvtColor(img, cv2.COLOR_BGR2RGB)\n",
    "\n",
    "plt.imshow(gray)\n",
    "plt.title('my picture')\n",
    "plt.show()"
   ]
  },
  {
   "cell_type": "code",
   "execution_count": 8,
   "metadata": {},
   "outputs": [
    {
     "data": {
      "image/png": "[encoded data removed]",
      "text/plain": [
       "<Figure size 432x288 with 1 Axes>"
      ]
     },
     "metadata": {},
     "output_type": "display_data"
    }
   ],
   "source": [
    "img = cv2.imread('../data/train/masks/575d24d81d.png')\n",
    "img = cv2.flip( img, 1 )\n",
    "height, width, _ = img.shape\n",
    "\n",
    "# Padding in needed for UNet models because they need image size to be divisible by 32 \n",
    "if height % 32 == 0:\n",
    "    y_min_pad = 0\n",
    "    y_max_pad = 0\n",
    "else:\n",
    "    y_pad = 32 - height % 32\n",
    "    y_min_pad = int(y_pad / 2)\n",
    "    y_max_pad = y_pad - y_min_pad\n",
    "\n",
    "if width % 32 == 0:\n",
    "    x_min_pad = 0\n",
    "    x_max_pad = 0\n",
    "else:\n",
    "    x_pad = 32 - width % 32\n",
    "    x_min_pad = int(x_pad / 2)\n",
    "    x_max_pad = x_pad - x_min_pad\n",
    "\n",
    "img = cv2.copyMakeBorder(img, y_min_pad, y_max_pad, x_min_pad, x_max_pad, cv2.BORDER_REPLICATE)#cv2.BORDER_REFLECT_101)\n",
    "gray = cv2.cvtColor(img, cv2.COLOR_BGR2RGB)\n",
    "\n",
    "plt.imshow(gray)\n",
    "plt.title('my picture')\n",
    "plt.show()"
   ]
  },
  {
   "cell_type": "code",
   "execution_count": 9,
   "metadata": {},
   "outputs": [],
   "source": [
    "import os\n",
    "import numpy as np\n",
    "import matplotlib.pyplot as plt\n",
    "import pandas as pd\n",
    "import torch\n",
    "import torchvision.transforms.functional as Func\n",
    "from torch.utils import data\n",
    "import tqdm\n",
    "from torch.autograd import Variable\n",
    "from sklearn.model_selection import train_test_split\n",
    "\n",
    "class TGSSaltDataset(data.Dataset):\n",
    "    def __init__(self, root_path, file_list, is_test = False, h_flip=False,crop=False,brightness=False,ratio=0.75):\n",
    "        self.is_test = is_test\n",
    "        self.root_path = root_path\n",
    "        self.file_list = file_list\n",
    "        self.h_flip = h_flip\n",
    "        self.crop=crop\n",
    "        self.crop_ratio = ratio\n",
    "        self.brightness = brightness\n",
    "    \n",
    "    def __len__(self):\n",
    "        return len(self.file_list)\n",
    "    \n",
    "    def __getitem__(self, index):\n",
    "        if index not in range(0, len(self.file_list)):\n",
    "            return self.__getitem__(np.random.randint(0, self.__len__()))\n",
    "        \n",
    "        file_id = self.file_list[index]\n",
    "        \n",
    "        image_folder = os.path.join(self.root_path, \"images\")\n",
    "        image_path = os.path.join(image_folder, file_id + \".png\")\n",
    "        \n",
    "        mask_folder = os.path.join(self.root_path, \"masks\")\n",
    "        mask_path = os.path.join(mask_folder, file_id + \".png\")\n",
    "        \n",
    "        image = load_image(image_path, h_flip=self.h_flip,crop = self.crop,ratio = self.crop_ratio,brightness=self.brightness)\n",
    "        \n",
    "        if self.is_test:\n",
    "            return (image,)\n",
    "        else:\n",
    "            mask = load_image(mask_path, mask = True, h_flip=self.h_flip, crop=self.crop,ratio = self.crop_ratio,brightness=self.brightness)\n",
    "            return image,mask"
   ]
  },
  {
   "cell_type": "code",
   "execution_count": 10,
   "metadata": {},
   "outputs": [],
   "source": [
    "# depths_df = pd.read_csv(os.path.join(directory, 'train.csv'))\n",
    "train_df = pd.read_csv(\"../data/train.csv\", index_col=\"id\", usecols=[0,1])\n",
    "train_df[\"masks\"] = [cv2.imread(\"../data/train/masks/{}.png\".format(idx),0) / 255 for idx in train_df.index]\n",
    "train_df[\"coverage\"] = train_df.masks.map(np.sum) / pow(101, 2)\n",
    "zero_df = train_df[train_df.coverage==0]\n",
    "min_criteria = train_df[train_df.coverage>0.1]\n",
    "train_df = pd.concat([zero_df,min_criteria])\n",
    "def cov_to_class(val):    \n",
    "    for i in range(0, 11):\n",
    "        if val * 10 <= i :\n",
    "            return i\n",
    "train_df[\"coverage_class\"] = train_df.coverage.map(cov_to_class)\n",
    "train_path = os.path.join(directory, 'train')\n",
    "file_list = list(train_df.index.values)\n",
    "file_list_train,file_list_val  = train_test_split(file_list,test_size=0.1,stratify=train_df.coverage_class, random_state=1337)"
   ]
  },
  {
   "cell_type": "code",
   "execution_count": 11,
   "metadata": {},
   "outputs": [
    {
     "data": {
      "text/plain": [
       "12324"
      ]
     },
     "execution_count": 11,
     "metadata": {},
     "output_type": "execute_result"
    }
   ],
   "source": [
    "from torchvision import transforms, datasets\n",
    "CUDA_LAUNCH_BLOCKING=1\n",
    "# def save_checkpoint(checkpoint_path, model, optimizer):\n",
    "#     state = {'state_dict': model.state_dict(),\n",
    "#              'optimizer' : optimizer.state_dict()}\n",
    "#     torch.save(state, checkpoint_path)\n",
    "#     print('model saved to %s' % checkpoint_path)\n",
    "def save_checkpoint(state, is_best):\n",
    "    filename='sgd_model/'+save_dir+'/best_loss_ph1.pth.tar'\n",
    "    \"\"\"Save checkpoint if a new best is achieved\"\"\"\n",
    "    if is_best:\n",
    "        print (\"=> Saving a new best\")\n",
    "        torch.save(state, filename)  # save checkpoint\n",
    "    else:\n",
    "        print (\"=> Validation loss did not improve\")\n",
    "\n",
    "def save_checkpoint_acc(state, is_best):\n",
    "    filename='sgd_model/'+save_dir+'/best_acc_ph1.pth.tar'\n",
    "    \"\"\"Save checkpoint if a new best is achieved\"\"\"\n",
    "    if is_best:\n",
    "        print (\"=> Saving a new best\")\n",
    "        torch.save(state, filename)  # save checkpoint\n",
    "    else:\n",
    "        print (\"=> Validation Accuracy did not improve\")\n",
    "        \n",
    "def load_checkpoint(checkpoint_path, model, optimizer):\n",
    "    state = torch.load(checkpoint_path)\n",
    "    model.load_state_dict(state['state_dict'])\n",
    "    optimizer.load_state_dict(state['optimizer'])\n",
    "    print('model loaded from %s' % checkpoint_path)\n",
    "    \n",
    "\n",
    "# file_list_train,file_list_dev = train_test_split(file_train,test_size=0.1,random_state=2)\n",
    "dataset = torch.utils.data.ConcatDataset([\n",
    "     TGSSaltDataset(train_path, file_list_train,h_flip=True),\n",
    "     TGSSaltDataset(train_path, file_list_train),\n",
    "    TGSSaltDataset(train_path, file_list_train,h_flip=True,crop=True),\n",
    "     TGSSaltDataset(train_path, file_list_train,crop=True)\n",
    "#     TGSSaltDataset(train_path, file_list_train,h_flip=True,brightness= True),\n",
    "#      TGSSaltDataset(train_path, file_list_train,brightness= True),\n",
    "#     TGSSaltDataset(train_path, file_list_train,h_flip=True,crop=True,brightness= True),\n",
    "#      TGSSaltDataset(train_path, file_list_train,crop=True,brightness= True)\n",
    "])\n",
    "\n",
    "dataset_val = TGSSaltDataset(train_path, file_list_val)\n",
    "len(dataset)"
   ]
  },
  {
   "cell_type": "code",
   "execution_count": null,
   "metadata": {},
   "outputs": [
    {
     "name": "stderr",
     "output_type": "stream",
     "text": [
      "  0%|          | 0/1027 [00:00<?, ?it/s]"
     ]
    },
    {
     "name": "stdout",
     "output_type": "stream",
     "text": [
      "=> loaded checkpoint 'sgd_model/vgg_dil/best_acc_ph1.pth.tar' (trained for 1 epochs)\n",
      "learning_rate 0.0001\n"
     ]
    },
    {
     "name": "stderr",
     "output_type": "stream",
     "text": [
      "/home/mukesh/miniconda3/envs/tgs_torch/lib/python3.6/site-packages/torch/nn/modules/upsampling.py:122: UserWarning: nn.Upsampling is deprecated. Use nn.functional.interpolate instead.\n",
      "  warnings.warn(\"nn.Upsampling is deprecated. Use nn.functional.interpolate instead.\")\n",
      "100%|██████████| 1027/1027 [11:38<00:00,  1.47it/s]\n"
     ]
    },
    {
     "name": "stdout",
     "output_type": "stream",
     "text": [
      "Epoch: 0, Train loss: 0.140,  Val loss: 0.045\n",
      "Train acc: 0.929, Val acc: 0.941\n",
      "=> Saving a new best\n",
      "=> Saving a new best\n"
     ]
    },
    {
     "name": "stderr",
     "output_type": "stream",
     "text": [
      "  0%|          | 0/1027 [00:00<?, ?it/s]"
     ]
    },
    {
     "name": "stdout",
     "output_type": "stream",
     "text": [
      "learning_rate 0.0001\n"
     ]
    },
    {
     "name": "stderr",
     "output_type": "stream",
     "text": [
      "100%|██████████| 1027/1027 [11:09<00:00,  1.53it/s]\n",
      "  0%|          | 0/1027 [00:00<?, ?it/s]"
     ]
    },
    {
     "name": "stdout",
     "output_type": "stream",
     "text": [
      "Epoch: 1, Train loss: 0.027,  Val loss: 0.072\n",
      "Train acc: 0.964, Val acc: 0.939\n",
      "=> Validation loss did not improve\n",
      "=> Validation Accuracy did not improve\n",
      "learning_rate 5e-05\n"
     ]
    },
    {
     "name": "stderr",
     "output_type": "stream",
     "text": [
      "100%|██████████| 1027/1027 [11:25<00:00,  1.50it/s]\n"
     ]
    },
    {
     "name": "stdout",
     "output_type": "stream",
     "text": [
      "Epoch: 2, Train loss: 0.013,  Val loss: 0.063\n",
      "Train acc: 0.983, Val acc: 0.952\n",
      "=> Validation loss did not improve\n",
      "=> Saving a new best\n"
     ]
    },
    {
     "name": "stderr",
     "output_type": "stream",
     "text": [
      "  0%|          | 0/1027 [00:00<?, ?it/s]"
     ]
    },
    {
     "name": "stdout",
     "output_type": "stream",
     "text": [
      "learning_rate 5e-05\n"
     ]
    },
    {
     "name": "stderr",
     "output_type": "stream",
     "text": [
      "100%|██████████| 1027/1027 [11:44<00:00,  1.46it/s]\n",
      "  0%|          | 0/1027 [00:00<?, ?it/s]"
     ]
    },
    {
     "name": "stdout",
     "output_type": "stream",
     "text": [
      "Epoch: 3, Train loss: 0.013,  Val loss: 0.064\n",
      "Train acc: 0.982, Val acc: 0.940\n",
      "=> Validation loss did not improve\n",
      "=> Validation Accuracy did not improve\n",
      "learning_rate 2.5e-05\n"
     ]
    },
    {
     "name": "stderr",
     "output_type": "stream",
     "text": [
      "100%|██████████| 1027/1027 [13:48<00:00,  1.24it/s]\n",
      "  0%|          | 0/1027 [00:00<?, ?it/s]"
     ]
    },
    {
     "name": "stdout",
     "output_type": "stream",
     "text": [
      "Epoch: 4, Train loss: 0.008,  Val loss: 0.119\n",
      "Train acc: 0.988, Val acc: 0.951\n",
      "=> Validation loss did not improve\n",
      "=> Validation Accuracy did not improve\n",
      "learning_rate 2.5e-05\n"
     ]
    },
    {
     "name": "stderr",
     "output_type": "stream",
     "text": [
      "100%|██████████| 1027/1027 [13:05<00:00,  1.31it/s]\n",
      "  0%|          | 0/1027 [00:00<?, ?it/s]"
     ]
    },
    {
     "name": "stdout",
     "output_type": "stream",
     "text": [
      "Epoch: 5, Train loss: 0.008,  Val loss: 0.119\n",
      "Train acc: 0.989, Val acc: 0.949\n",
      "=> Validation loss did not improve\n",
      "=> Validation Accuracy did not improve\n",
      "learning_rate 0.0001\n"
     ]
    },
    {
     "name": "stderr",
     "output_type": "stream",
     "text": [
      "100%|██████████| 1027/1027 [11:11<00:00,  1.53it/s]\n",
      "  0%|          | 0/1027 [00:00<?, ?it/s]"
     ]
    },
    {
     "name": "stdout",
     "output_type": "stream",
     "text": [
      "Epoch: 6, Train loss: 0.021,  Val loss: 0.068\n",
      "Train acc: 0.973, Val acc: 0.945\n",
      "=> Validation loss did not improve\n",
      "=> Validation Accuracy did not improve\n",
      "learning_rate 0.0001\n"
     ]
    },
    {
     "name": "stderr",
     "output_type": "stream",
     "text": [
      "100%|██████████| 1027/1027 [11:11<00:00,  1.53it/s]\n",
      "  0%|          | 0/1027 [00:00<?, ?it/s]"
     ]
    },
    {
     "name": "stdout",
     "output_type": "stream",
     "text": [
      "Epoch: 7, Train loss: 0.017,  Val loss: 0.059\n",
      "Train acc: 0.977, Val acc: 0.950\n",
      "=> Validation loss did not improve\n",
      "=> Validation Accuracy did not improve\n",
      "learning_rate 5e-05\n"
     ]
    },
    {
     "name": "stderr",
     "output_type": "stream",
     "text": [
      "100%|██████████| 1027/1027 [11:10<00:00,  1.53it/s]\n",
      "  0%|          | 0/1027 [00:00<?, ?it/s]"
     ]
    },
    {
     "name": "stdout",
     "output_type": "stream",
     "text": [
      "Epoch: 8, Train loss: 0.010,  Val loss: 0.063\n",
      "Train acc: 0.986, Val acc: 0.948\n",
      "=> Validation loss did not improve\n",
      "=> Validation Accuracy did not improve\n",
      "learning_rate 5e-05\n"
     ]
    },
    {
     "name": "stderr",
     "output_type": "stream",
     "text": [
      "100%|██████████| 1027/1027 [11:09<00:00,  1.53it/s]\n",
      "  0%|          | 0/1027 [00:00<?, ?it/s]"
     ]
    },
    {
     "name": "stdout",
     "output_type": "stream",
     "text": [
      "Epoch: 9, Train loss: 0.007,  Val loss: 0.156\n",
      "Train acc: 0.989, Val acc: 0.949\n",
      "=> Validation loss did not improve\n",
      "=> Validation Accuracy did not improve\n",
      "learning_rate 2.5e-05\n"
     ]
    },
    {
     "name": "stderr",
     "output_type": "stream",
     "text": [
      "100%|██████████| 1027/1027 [11:09<00:00,  1.53it/s]\n"
     ]
    },
    {
     "name": "stdout",
     "output_type": "stream",
     "text": [
      "Epoch: 10, Train loss: 0.006,  Val loss: 0.122\n",
      "Train acc: 0.991, Val acc: 0.953\n",
      "=> Validation loss did not improve\n",
      "=> Saving a new best\n"
     ]
    },
    {
     "name": "stderr",
     "output_type": "stream",
     "text": [
      "  0%|          | 0/1027 [00:00<?, ?it/s]"
     ]
    },
    {
     "name": "stdout",
     "output_type": "stream",
     "text": [
      "learning_rate 2.5e-05\n"
     ]
    },
    {
     "name": "stderr",
     "output_type": "stream",
     "text": [
      "100%|██████████| 1027/1027 [11:10<00:00,  1.53it/s]\n"
     ]
    },
    {
     "name": "stdout",
     "output_type": "stream",
     "text": [
      "Epoch: 11, Train loss: 0.005,  Val loss: 0.132\n",
      "Train acc: 0.992, Val acc: 0.953\n",
      "=> Validation loss did not improve\n",
      "=> Saving a new best\n"
     ]
    },
    {
     "name": "stderr",
     "output_type": "stream",
     "text": [
      "  0%|          | 0/1027 [00:00<?, ?it/s]"
     ]
    },
    {
     "name": "stdout",
     "output_type": "stream",
     "text": [
      "learning_rate 0.0001\n"
     ]
    },
    {
     "name": "stderr",
     "output_type": "stream",
     "text": [
      "100%|██████████| 1027/1027 [11:09<00:00,  1.53it/s]\n",
      "  0%|          | 0/1027 [00:00<?, ?it/s]"
     ]
    },
    {
     "name": "stdout",
     "output_type": "stream",
     "text": [
      "Epoch: 12, Train loss: 0.013,  Val loss: 0.093\n",
      "Train acc: 0.983, Val acc: 0.943\n",
      "=> Validation loss did not improve\n",
      "=> Validation Accuracy did not improve\n",
      "learning_rate 0.0001\n"
     ]
    },
    {
     "name": "stderr",
     "output_type": "stream",
     "text": [
      "100%|██████████| 1027/1027 [11:08<00:00,  1.54it/s]\n",
      "  0%|          | 0/1027 [00:00<?, ?it/s]"
     ]
    },
    {
     "name": "stdout",
     "output_type": "stream",
     "text": [
      "Epoch: 13, Train loss: 0.014,  Val loss: 0.114\n",
      "Train acc: 0.981, Val acc: 0.947\n",
      "=> Validation loss did not improve\n",
      "=> Validation Accuracy did not improve\n",
      "learning_rate 5e-05\n"
     ]
    },
    {
     "name": "stderr",
     "output_type": "stream",
     "text": [
      "100%|██████████| 1027/1027 [11:09<00:00,  1.53it/s]\n",
      "  0%|          | 0/1027 [00:00<?, ?it/s]"
     ]
    },
    {
     "name": "stdout",
     "output_type": "stream",
     "text": [
      "Epoch: 14, Train loss: 0.008,  Val loss: 0.122\n",
      "Train acc: 0.988, Val acc: 0.949\n",
      "=> Validation loss did not improve\n",
      "=> Validation Accuracy did not improve\n",
      "learning_rate 5e-05\n"
     ]
    },
    {
     "name": "stderr",
     "output_type": "stream",
     "text": [
      "100%|██████████| 1027/1027 [11:09<00:00,  1.53it/s]\n",
      "  0%|          | 0/1027 [00:00<?, ?it/s]"
     ]
    },
    {
     "name": "stdout",
     "output_type": "stream",
     "text": [
      "Epoch: 15, Train loss: 0.008,  Val loss: 0.118\n",
      "Train acc: 0.989, Val acc: 0.951\n",
      "=> Validation loss did not improve\n",
      "=> Validation Accuracy did not improve\n",
      "learning_rate 2.5e-05\n"
     ]
    },
    {
     "name": "stderr",
     "output_type": "stream",
     "text": [
      "100%|██████████| 1027/1027 [11:09<00:00,  1.53it/s]\n",
      "  0%|          | 0/1027 [00:00<?, ?it/s]"
     ]
    },
    {
     "name": "stdout",
     "output_type": "stream",
     "text": [
      "Epoch: 16, Train loss: 0.005,  Val loss: 0.135\n",
      "Train acc: 0.992, Val acc: 0.949\n",
      "=> Validation loss did not improve\n",
      "=> Validation Accuracy did not improve\n",
      "learning_rate 2.5e-05\n"
     ]
    },
    {
     "name": "stderr",
     "output_type": "stream",
     "text": [
      "100%|██████████| 1027/1027 [11:09<00:00,  1.53it/s]\n",
      "  0%|          | 0/1027 [00:00<?, ?it/s]"
     ]
    },
    {
     "name": "stdout",
     "output_type": "stream",
     "text": [
      "Epoch: 17, Train loss: 0.005,  Val loss: 0.146\n",
      "Train acc: 0.993, Val acc: 0.953\n",
      "=> Validation loss did not improve\n",
      "=> Validation Accuracy did not improve\n",
      "learning_rate 0.0001\n"
     ]
    },
    {
     "name": "stderr",
     "output_type": "stream",
     "text": [
      "100%|██████████| 1027/1027 [11:08<00:00,  1.54it/s]\n",
      "  0%|          | 0/1027 [00:00<?, ?it/s]"
     ]
    },
    {
     "name": "stdout",
     "output_type": "stream",
     "text": [
      "Epoch: 18, Train loss: 0.019,  Val loss: 0.116\n",
      "Train acc: 0.976, Val acc: 0.947\n",
      "=> Validation loss did not improve\n",
      "=> Validation Accuracy did not improve\n",
      "learning_rate 0.0001\n"
     ]
    },
    {
     "name": "stderr",
     "output_type": "stream",
     "text": [
      "100%|██████████| 1027/1027 [11:09<00:00,  1.53it/s]\n",
      "  0%|          | 0/1027 [00:00<?, ?it/s]"
     ]
    },
    {
     "name": "stdout",
     "output_type": "stream",
     "text": [
      "Epoch: 19, Train loss: 0.015,  Val loss: 0.077\n",
      "Train acc: 0.979, Val acc: 0.945\n",
      "=> Validation loss did not improve\n",
      "=> Validation Accuracy did not improve\n",
      "learning_rate 5e-05\n"
     ]
    },
    {
     "name": "stderr",
     "output_type": "stream",
     "text": [
      "100%|██████████| 1027/1027 [11:09<00:00,  1.53it/s]\n",
      "  0%|          | 0/1027 [00:00<?, ?it/s]"
     ]
    },
    {
     "name": "stdout",
     "output_type": "stream",
     "text": [
      "Epoch: 20, Train loss: 0.009,  Val loss: 0.080\n",
      "Train acc: 0.988, Val acc: 0.947\n",
      "=> Validation loss did not improve\n",
      "=> Validation Accuracy did not improve\n",
      "learning_rate 5e-05\n"
     ]
    },
    {
     "name": "stderr",
     "output_type": "stream",
     "text": [
      "100%|██████████| 1027/1027 [11:09<00:00,  1.53it/s]\n",
      "  0%|          | 0/1027 [00:00<?, ?it/s]"
     ]
    },
    {
     "name": "stdout",
     "output_type": "stream",
     "text": [
      "Epoch: 21, Train loss: 0.008,  Val loss: 0.157\n",
      "Train acc: 0.988, Val acc: 0.948\n",
      "=> Validation loss did not improve\n",
      "=> Validation Accuracy did not improve\n",
      "learning_rate 2.5e-05\n"
     ]
    },
    {
     "name": "stderr",
     "output_type": "stream",
     "text": [
      "100%|██████████| 1027/1027 [11:09<00:00,  1.53it/s]\n",
      "  0%|          | 0/1027 [00:00<?, ?it/s]"
     ]
    },
    {
     "name": "stdout",
     "output_type": "stream",
     "text": [
      "Epoch: 22, Train loss: 0.005,  Val loss: 0.143\n",
      "Train acc: 0.992, Val acc: 0.946\n",
      "=> Validation loss did not improve\n",
      "=> Validation Accuracy did not improve\n",
      "learning_rate 2.5e-05\n"
     ]
    },
    {
     "name": "stderr",
     "output_type": "stream",
     "text": [
      "100%|██████████| 1027/1027 [11:09<00:00,  1.53it/s]\n",
      "  0%|          | 0/1027 [00:00<?, ?it/s]"
     ]
    },
    {
     "name": "stdout",
     "output_type": "stream",
     "text": [
      "Epoch: 23, Train loss: 0.004,  Val loss: 0.175\n",
      "Train acc: 0.993, Val acc: 0.949\n",
      "=> Validation loss did not improve\n",
      "=> Validation Accuracy did not improve\n",
      "learning_rate 0.0001\n"
     ]
    },
    {
     "name": "stderr",
     "output_type": "stream",
     "text": [
      "100%|██████████| 1027/1027 [11:09<00:00,  1.53it/s]\n",
      "  0%|          | 0/1027 [00:00<?, ?it/s]"
     ]
    },
    {
     "name": "stdout",
     "output_type": "stream",
     "text": [
      "Epoch: 24, Train loss: 0.009,  Val loss: 0.104\n",
      "Train acc: 0.989, Val acc: 0.951\n",
      "=> Validation loss did not improve\n",
      "=> Validation Accuracy did not improve\n",
      "learning_rate 0.0001\n"
     ]
    },
    {
     "name": "stderr",
     "output_type": "stream",
     "text": [
      "100%|██████████| 1027/1027 [11:09<00:00,  1.53it/s]\n",
      "  0%|          | 0/1027 [00:00<?, ?it/s]"
     ]
    },
    {
     "name": "stdout",
     "output_type": "stream",
     "text": [
      "Epoch: 25, Train loss: 0.012,  Val loss: 0.150\n",
      "Train acc: 0.983, Val acc: 0.952\n",
      "=> Validation loss did not improve\n",
      "=> Validation Accuracy did not improve\n",
      "learning_rate 5e-05\n"
     ]
    },
    {
     "name": "stderr",
     "output_type": "stream",
     "text": [
      "100%|██████████| 1027/1027 [11:09<00:00,  1.53it/s]\n",
      "  0%|          | 0/1027 [00:00<?, ?it/s]"
     ]
    },
    {
     "name": "stdout",
     "output_type": "stream",
     "text": [
      "Epoch: 26, Train loss: 0.008,  Val loss: 0.150\n",
      "Train acc: 0.989, Val acc: 0.953\n",
      "=> Validation loss did not improve\n",
      "=> Validation Accuracy did not improve\n",
      "learning_rate 5e-05\n"
     ]
    },
    {
     "name": "stderr",
     "output_type": "stream",
     "text": [
      "100%|██████████| 1027/1027 [11:09<00:00,  1.53it/s]\n",
      "  0%|          | 0/1027 [00:00<?, ?it/s]"
     ]
    },
    {
     "name": "stdout",
     "output_type": "stream",
     "text": [
      "Epoch: 27, Train loss: 0.010,  Val loss: 0.100\n",
      "Train acc: 0.988, Val acc: 0.948\n",
      "=> Validation loss did not improve\n",
      "=> Validation Accuracy did not improve\n",
      "learning_rate 2.5e-05\n"
     ]
    },
    {
     "name": "stderr",
     "output_type": "stream",
     "text": [
      "100%|██████████| 1027/1027 [11:08<00:00,  1.54it/s]\n",
      "  0%|          | 0/1027 [00:00<?, ?it/s]"
     ]
    },
    {
     "name": "stdout",
     "output_type": "stream",
     "text": [
      "Epoch: 28, Train loss: 0.005,  Val loss: 0.140\n",
      "Train acc: 0.993, Val acc: 0.946\n",
      "=> Validation loss did not improve\n",
      "=> Validation Accuracy did not improve\n",
      "learning_rate 2.5e-05\n"
     ]
    },
    {
     "name": "stderr",
     "output_type": "stream",
     "text": [
      "100%|██████████| 1027/1027 [11:09<00:00,  1.53it/s]\n",
      "  0%|          | 0/1027 [00:00<?, ?it/s]"
     ]
    },
    {
     "name": "stdout",
     "output_type": "stream",
     "text": [
      "Epoch: 29, Train loss: 0.004,  Val loss: 0.207\n",
      "Train acc: 0.993, Val acc: 0.948\n",
      "=> Validation loss did not improve\n",
      "=> Validation Accuracy did not improve\n",
      "learning_rate 0.0001\n"
     ]
    },
    {
     "name": "stderr",
     "output_type": "stream",
     "text": [
      "100%|██████████| 1027/1027 [11:09<00:00,  1.53it/s]\n",
      "  0%|          | 0/1027 [00:00<?, ?it/s]"
     ]
    },
    {
     "name": "stdout",
     "output_type": "stream",
     "text": [
      "Epoch: 30, Train loss: 0.007,  Val loss: 0.132\n",
      "Train acc: 0.990, Val acc: 0.952\n",
      "=> Validation loss did not improve\n",
      "=> Validation Accuracy did not improve\n",
      "learning_rate 0.0001\n"
     ]
    },
    {
     "name": "stderr",
     "output_type": "stream",
     "text": [
      "100%|██████████| 1027/1027 [11:09<00:00,  1.53it/s]\n",
      "  0%|          | 0/1027 [00:00<?, ?it/s]"
     ]
    },
    {
     "name": "stdout",
     "output_type": "stream",
     "text": [
      "Epoch: 31, Train loss: 0.012,  Val loss: 0.112\n",
      "Train acc: 0.984, Val acc: 0.947\n",
      "=> Validation loss did not improve\n",
      "=> Validation Accuracy did not improve\n",
      "learning_rate 5e-05\n"
     ]
    },
    {
     "name": "stderr",
     "output_type": "stream",
     "text": [
      "100%|██████████| 1027/1027 [11:09<00:00,  1.53it/s]\n",
      "  0%|          | 0/1027 [00:00<?, ?it/s]"
     ]
    },
    {
     "name": "stdout",
     "output_type": "stream",
     "text": [
      "Epoch: 32, Train loss: 0.006,  Val loss: 0.096\n",
      "Train acc: 0.991, Val acc: 0.923\n",
      "=> Validation loss did not improve\n",
      "=> Validation Accuracy did not improve\n",
      "learning_rate 5e-05\n"
     ]
    },
    {
     "name": "stderr",
     "output_type": "stream",
     "text": [
      "100%|██████████| 1027/1027 [18:04<00:00,  1.06s/it]\n",
      "  0%|          | 0/1027 [00:00<?, ?it/s]"
     ]
    },
    {
     "name": "stdout",
     "output_type": "stream",
     "text": [
      "Epoch: 33, Train loss: 0.005,  Val loss: 0.157\n",
      "Train acc: 0.993, Val acc: 0.948\n",
      "=> Validation loss did not improve\n",
      "=> Validation Accuracy did not improve\n",
      "learning_rate 2.5e-05\n"
     ]
    },
    {
     "name": "stderr",
     "output_type": "stream",
     "text": [
      "100%|██████████| 1027/1027 [29:03<00:00,  1.70s/it]\n",
      "  0%|          | 0/1027 [00:00<?, ?it/s]"
     ]
    },
    {
     "name": "stdout",
     "output_type": "stream",
     "text": [
      "Epoch: 34, Train loss: 0.004,  Val loss: 0.171\n",
      "Train acc: 0.994, Val acc: 0.947\n",
      "=> Validation loss did not improve\n",
      "=> Validation Accuracy did not improve\n",
      "learning_rate 2.5e-05\n"
     ]
    },
    {
     "name": "stderr",
     "output_type": "stream",
     "text": [
      "100%|██████████| 1027/1027 [12:05<00:00,  1.42it/s]\n",
      "  0%|          | 0/1027 [00:00<?, ?it/s]"
     ]
    },
    {
     "name": "stdout",
     "output_type": "stream",
     "text": [
      "Epoch: 35, Train loss: 0.004,  Val loss: 0.167\n",
      "Train acc: 0.994, Val acc: 0.952\n",
      "=> Validation loss did not improve\n",
      "=> Validation Accuracy did not improve\n",
      "learning_rate 0.0001\n"
     ]
    },
    {
     "name": "stderr",
     "output_type": "stream",
     "text": [
      "100%|██████████| 1027/1027 [11:51<00:00,  1.44it/s]\n",
      "  0%|          | 0/1027 [00:00<?, ?it/s]"
     ]
    },
    {
     "name": "stdout",
     "output_type": "stream",
     "text": [
      "Epoch: 36, Train loss: 0.014,  Val loss: 0.075\n",
      "Train acc: 0.983, Val acc: 0.941\n",
      "=> Validation loss did not improve\n",
      "=> Validation Accuracy did not improve\n",
      "learning_rate 0.0001\n"
     ]
    },
    {
     "name": "stderr",
     "output_type": "stream",
     "text": [
      "100%|██████████| 1027/1027 [12:00<00:00,  1.42it/s]\n",
      "  0%|          | 0/1027 [00:00<?, ?it/s]"
     ]
    },
    {
     "name": "stdout",
     "output_type": "stream",
     "text": [
      "Epoch: 37, Train loss: 0.012,  Val loss: 0.162\n",
      "Train acc: 0.985, Val acc: 0.946\n",
      "=> Validation loss did not improve\n",
      "=> Validation Accuracy did not improve\n",
      "learning_rate 5e-05\n"
     ]
    },
    {
     "name": "stderr",
     "output_type": "stream",
     "text": [
      "100%|██████████| 1027/1027 [11:31<00:00,  1.49it/s]\n",
      "  0%|          | 0/1027 [00:00<?, ?it/s]"
     ]
    },
    {
     "name": "stdout",
     "output_type": "stream",
     "text": [
      "Epoch: 38, Train loss: 0.006,  Val loss: 0.150\n",
      "Train acc: 0.991, Val acc: 0.951\n",
      "=> Validation loss did not improve\n",
      "=> Validation Accuracy did not improve\n",
      "learning_rate 5e-05\n"
     ]
    },
    {
     "name": "stderr",
     "output_type": "stream",
     "text": [
      "100%|██████████| 1027/1027 [11:27<00:00,  1.49it/s]\n",
      "  0%|          | 0/1027 [00:00<?, ?it/s]"
     ]
    },
    {
     "name": "stdout",
     "output_type": "stream",
     "text": [
      "Epoch: 39, Train loss: 0.005,  Val loss: 0.193\n",
      "Train acc: 0.993, Val acc: 0.947\n",
      "=> Validation loss did not improve\n",
      "=> Validation Accuracy did not improve\n",
      "learning_rate 2.5e-05\n"
     ]
    },
    {
     "name": "stderr",
     "output_type": "stream",
     "text": [
      "100%|██████████| 1027/1027 [11:50<00:00,  1.45it/s]\n",
      "  0%|          | 0/1027 [00:00<?, ?it/s]"
     ]
    },
    {
     "name": "stdout",
     "output_type": "stream",
     "text": [
      "Epoch: 40, Train loss: 0.004,  Val loss: 0.188\n",
      "Train acc: 0.994, Val acc: 0.947\n",
      "=> Validation loss did not improve\n",
      "=> Validation Accuracy did not improve\n",
      "learning_rate 2.5e-05\n"
     ]
    },
    {
     "name": "stderr",
     "output_type": "stream",
     "text": [
      " 56%|█████▌    | 571/1027 [06:29<05:10,  1.47it/s]"
     ]
    }
   ],
   "source": [
    "model = get_model()\n",
    "resume_weights = \"sgd_model/\"+save_dir+\"/best_acc_ph1.pth.tar\"\n",
    "checkpoint = torch.load(resume_weights)\n",
    "start_epoch = checkpoint['epoch']\n",
    "best_accuracy = checkpoint['best_accuracy']\n",
    "model.load_state_dict(checkpoint['state_dict'])\n",
    "print(\"=> loaded checkpoint '{}' (trained for {} epochs)\".format(resume_weights, checkpoint['epoch']))\n",
    "# print(model)\n",
    "#\n",
    "def cyclic_lr(epoch, init_lr=1e-4, num_epochs_per_cycle=6, cycle_epochs_decay=2, lr_decay_factor=0.5):\n",
    "    epoch_in_cycle = epoch % num_epochs_per_cycle\n",
    "    lr = init_lr * (lr_decay_factor ** (epoch_in_cycle // cycle_epochs_decay))\n",
    "    return lr\n",
    "# learning_rate = 1e-3\n",
    "# loss_fn = torch.nn.BCELoss()\n",
    "def criterion(logit, truth ):\n",
    "    loss = RobustFocalLoss2d()(logit, truth, type='sigmoid')\n",
    "    return loss\n",
    "\n",
    "def metric(logit, truth, threshold=0.5 ):\n",
    "#     prob = F.sigmoid(logit)\n",
    "    prob = logit\n",
    "    dice = accuracy(prob, truth, threshold=threshold, is_average=True)\n",
    "    return dice\n",
    "# loss_fn = ()\n",
    "# optimizer = torch.optim.SGD(model.parameters(), lr=learning_rate)\n",
    "# optimizer = torch.optim.SGD(model.parameters(),momentum=0.9,lr=learning_rate)\n",
    "# scheduler = torch.optim.lr_scheduler.StepLR(optimizer, step_size=15, gamma=0.01)\n",
    "\n",
    "\n",
    "epoch=60\n",
    "best_loss=1.\n",
    "best_acc = 0.\n",
    "for e in range(epoch):\n",
    "    learning_rate = cyclic_lr(e)\n",
    "    print(\"learning_rate\",learning_rate)\n",
    "    optimizer = torch.optim.Adam(model.parameters(),lr=learning_rate)\n",
    "#     scheduler.step()\n",
    "    train_loss = []\n",
    "    train_acc = []\n",
    "    for image, mask in tqdm.tqdm(data.DataLoader(dataset, batch_size = 12,shuffle=True, num_workers=6)):\n",
    "        image = image.type(torch.FloatTensor).cuda()\n",
    "        y_pred = model(Variable(image))\n",
    "#         loss = loss_fn(y_pred, mask.to(device))\n",
    "#         loss = lovasz_hinge(y_pred, Variable(mask.cuda()))\n",
    "        loss = criterion(y_pred, Variable(mask.cuda()))\n",
    "        dice  = metric(y_pred, Variable(mask.cuda()))\n",
    "        \n",
    "        optimizer.zero_grad()\n",
    "        loss.backward()\n",
    "\n",
    "        optimizer.step()\n",
    "        train_loss.append(loss.item())\n",
    "        train_acc.append(dice.item())\n",
    "        \n",
    "    val_loss = []\n",
    "    val_acc =[]\n",
    "    for image, mask in data.DataLoader(dataset_val, batch_size = 8, shuffle = False):\n",
    "        image = image.cuda()\n",
    "        y_pred = model(Variable(image))\n",
    "\n",
    "#         loss = lovasz_hinge(y_pred, Variable(mask.cuda()))\n",
    "        loss = criterion(y_pred, Variable(mask.cuda()))\n",
    "        dice  = metric(y_pred, Variable(mask.cuda()))\n",
    "        val_loss.append(loss.item())\n",
    "        val_acc.append(dice.item())\n",
    "    print(\"Epoch: %d, Train loss: %.3f,  Val loss: %.3f\" % (e, np.mean(train_loss), np.mean(val_loss)))\n",
    "    print(\"Train acc: %.3f, Val acc: %.3f\" %(np.mean(train_acc),np.mean(val_acc)))\n",
    "    val_loss = np.mean(val_loss)\n",
    "    is_best = bool(val_loss<best_loss)\n",
    "    # Get greater Tensor to keep track best acc\n",
    "    best_loss = min(val_loss,best_loss)\n",
    "    # Save checkpoint if is a new best\n",
    "    save_checkpoint({\n",
    "        'epoch': e + 1,\n",
    "        'state_dict': model.state_dict(),\n",
    "        'best_accuracy': best_loss\n",
    "    }, is_best)\n",
    "    val_acc = np.mean(val_acc)\n",
    "    is_best_acc = bool(val_acc>best_acc)\n",
    "    # Get greater Tensor to keep track best acc\n",
    "    best_acc = max(val_acc,best_acc)\n",
    "    # Save checkpoint if is a new best\n",
    "    save_checkpoint_acc({\n",
    "        'epoch': e + 1,\n",
    "        'state_dict': model.state_dict(),\n",
    "        'best_accuracy': best_acc\n",
    "    }, is_best_acc)"
   ]
  },
  {
   "cell_type": "code",
   "execution_count": null,
   "metadata": {},
   "outputs": [],
   "source": [
    "best_acc,best_loss"
   ]
  },
  {
   "cell_type": "code",
   "execution_count": 13,
   "metadata": {},
   "outputs": [
    {
     "data": {
      "text/plain": [
       "(0.9549810221028883, 0.03694632477235309)"
      ]
     },
     "execution_count": 13,
     "metadata": {},
     "output_type": "execute_result"
    }
   ],
   "source": [
    "best_acc,best_loss"
   ]
  },
  {
   "cell_type": "code",
   "execution_count": null,
   "metadata": {},
   "outputs": [],
   "source": [
    "resume_weights = \"sgd_model/best_acc_ph1.pth.tar\"\n",
    "checkpoint = torch.load(resume_weights)\n",
    "start_epoch = checkpoint['epoch']\n",
    "best_accuracy = checkpoint['best_accuracy']\n",
    "model.load_state_dict(checkpoint['state_dict'])\n",
    "print(\"=> loaded checkpoint '{}' (trained for {} epochs)\".format(resume_weights, checkpoint['epoch']))"
   ]
  },
  {
   "cell_type": "code",
   "execution_count": null,
   "metadata": {},
   "outputs": [],
   "source": [
    "import glob\n",
    "\n",
    "test_path = os.path.join(directory, 'test')\n",
    "test_file_list = glob.glob(os.path.join(test_path, 'images', '*.png'))\n",
    "test_file_list = [f.split('/')[-1].split('.')[0] for f in test_file_list]\n",
    "test_file_list[:3], test_path"
   ]
  },
  {
   "cell_type": "code",
   "execution_count": 31,
   "metadata": {},
   "outputs": [
    {
     "name": "stderr",
     "output_type": "stream",
     "text": [
      "  0%|          | 2/2250 [00:00<03:18, 11.35it/s]"
     ]
    },
    {
     "name": "stdout",
     "output_type": "stream",
     "text": [
      "18000\n"
     ]
    },
    {
     "name": "stderr",
     "output_type": "stream",
     "text": [
      "100%|██████████| 2250/2250 [02:43<00:00, 13.75it/s]\n"
     ]
    }
   ],
   "source": [
    "#NOrmal Image\n",
    "print(len(test_file_list))\n",
    "test_dataset = TGSSaltDataset(test_path, test_file_list, is_test = True)\n",
    "\n",
    "all_predictions = []\n",
    "for image in tqdm.tqdm(data.DataLoader(test_dataset, batch_size = 8)):\n",
    "    image = image[0].type(torch.FloatTensor).cuda()\n",
    "    y_pred = model(Variable(image)).cpu().data.numpy()\n",
    "    all_predictions.append(y_pred)\n",
    "all_predictions_stacked = np.vstack(all_predictions)[:, 0, :, :]"
   ]
  },
  {
   "cell_type": "code",
   "execution_count": 32,
   "metadata": {},
   "outputs": [
    {
     "name": "stderr",
     "output_type": "stream",
     "text": [
      "  0%|          | 0/2250 [00:00<?, ?it/s]"
     ]
    },
    {
     "name": "stdout",
     "output_type": "stream",
     "text": [
      "18000\n"
     ]
    },
    {
     "name": "stderr",
     "output_type": "stream",
     "text": [
      "100%|██████████| 2250/2250 [02:48<00:00, 13.39it/s]\n"
     ]
    }
   ],
   "source": [
    "#Flipped Image\n",
    "print(len(test_file_list))\n",
    "test_dataset = TGSSaltDataset(test_path, test_file_list, is_test = True,h_flip=True)\n",
    "\n",
    "all_predictions_flip = []\n",
    "for image in tqdm.tqdm(data.DataLoader(test_dataset, batch_size = 8)):\n",
    "    image = image[0].type(torch.FloatTensor).cuda()\n",
    "    y_pred = model(Variable(image)).cpu().data.numpy()\n",
    "    all_predictions_flip.append(y_pred)\n",
    "all_predictions_stacked_flip = np.vstack(all_predictions_flip)[:, 0, :, :]"
   ]
  },
  {
   "cell_type": "code",
   "execution_count": 33,
   "metadata": {},
   "outputs": [],
   "source": [
    "# #Brightness flip Image\n",
    "# print(len(test_file_list))\n",
    "# test_dataset = TGSSaltDataset(test_path, test_file_list, is_test = True,h_flip=True,brightness= True)\n",
    "\n",
    "# all_predictions_flip_bright = []\n",
    "# for image in tqdm.tqdm(data.DataLoader(test_dataset, batch_size = 8)):\n",
    "#     image = image[0].type(torch.FloatTensor).cuda()\n",
    "#     y_pred = model(Variable(image)).cpu().data.numpy()\n",
    "#     all_predictions_flip_bright.append(y_pred)\n",
    "# all_predictions_flip_bright = np.vstack(all_predictions_flip_bright)[:, 0, :, :]"
   ]
  },
  {
   "cell_type": "code",
   "execution_count": 34,
   "metadata": {},
   "outputs": [],
   "source": [
    "# #Brightness Image\n",
    "# print(len(test_file_list))\n",
    "# test_dataset = TGSSaltDataset(test_path, test_file_list, is_test = True,brightness= True)\n",
    "\n",
    "# all_predictions_bright = []\n",
    "# for image in tqdm.tqdm(data.DataLoader(test_dataset, batch_size = 8)):\n",
    "#     image = image[0].type(torch.FloatTensor).cuda()\n",
    "#     y_pred = model(Variable(image)).cpu().data.numpy()\n",
    "#     all_predictions_bright.append(y_pred)\n",
    "# all_predictions_bright = np.vstack(all_predictions_bright)[:, 0, :, :]"
   ]
  },
  {
   "cell_type": "code",
   "execution_count": 35,
   "metadata": {},
   "outputs": [
    {
     "name": "stdout",
     "output_type": "stream",
     "text": [
      "(18000, 128, 128) (18000, 128, 128)\n"
     ]
    }
   ],
   "source": [
    "print(all_predictions_stacked.shape,all_predictions_stacked_flip.shape)"
   ]
  },
  {
   "cell_type": "code",
   "execution_count": 36,
   "metadata": {
    "slideshow": {
     "slide_type": "skip"
    }
   },
   "outputs": [
    {
     "name": "stdout",
     "output_type": "stream",
     "text": [
      "(18000, 128, 128)\n"
     ]
    }
   ],
   "source": [
    "final_pred=[]\n",
    "# for pred1, pred2, pred3, pred4 in zip(all_predictions_stacked,all_predictions_stacked_flip,all_predictions_flip_bright,all_predictions_bright):\n",
    "#     final_pred.append((pred1+np.fliplr(pred2)+np.fliplr(pred3)+pred4)/4)\n",
    "for pred1, pred2 in zip(all_predictions_stacked,all_predictions_stacked_flip):\n",
    "    final_pred.append((pred1+np.fliplr(pred2))/2)\n",
    "final_pred = np.array(final_pred)\n",
    "print(final_pred.shape)"
   ]
  },
  {
   "cell_type": "code",
   "execution_count": 37,
   "metadata": {},
   "outputs": [],
   "source": [
    "height, width = 101, 101\n",
    "\n",
    "if height % 32 == 0:\n",
    "    y_min_pad = 0\n",
    "    y_max_pad = 0\n",
    "else:\n",
    "    y_pad = 32 - height % 32\n",
    "    y_min_pad = int(y_pad / 2)\n",
    "    y_max_pad = y_pad - y_min_pad\n",
    "\n",
    "if width % 32 == 0:\n",
    "    x_min_pad = 0\n",
    "    x_max_pad = 0\n",
    "else:\n",
    "    x_pad = 32 - width % 32\n",
    "    x_min_pad = int(x_pad / 2)\n",
    "    x_max_pad = x_pad - x_min_pad"
   ]
  },
  {
   "cell_type": "code",
   "execution_count": 38,
   "metadata": {},
   "outputs": [
    {
     "data": {
      "text/plain": [
       "(18000, 101, 101)"
      ]
     },
     "execution_count": 38,
     "metadata": {},
     "output_type": "execute_result"
    }
   ],
   "source": [
    "final_pred = final_pred[:, y_min_pad:128 - y_max_pad, x_min_pad:128 - x_max_pad]\n",
    "final_pred.shape"
   ]
  },
  {
   "cell_type": "code",
   "execution_count": 44,
   "metadata": {},
   "outputs": [
    {
     "name": "stderr",
     "output_type": "stream",
     "text": [
      "100%|██████████| 86/86 [00:03<00:00, 24.26it/s]\n"
     ]
    },
    {
     "data": {
      "text/plain": [
       "((343, 101, 101), (343, 101, 101))"
      ]
     },
     "execution_count": 44,
     "metadata": {},
     "output_type": "execute_result"
    }
   ],
   "source": [
    "test_dataset = TGSSaltDataset(test_path, test_file_list, is_test = True)\n",
    "\n",
    "val_predictions = []\n",
    "val_masks = []\n",
    "for image, mask in tqdm.tqdm(data.DataLoader(dataset_val, batch_size = 4)):\n",
    "    image = Variable(image.type(torch.FloatTensor).cuda())\n",
    "    y_pred = model(image).cpu().data.numpy()\n",
    "    val_predictions.append(y_pred)\n",
    "    val_masks.append(mask)\n",
    "    \n",
    "val_predictions_stacked = np.vstack(val_predictions)[:, 0, :, :]\n",
    "\n",
    "val_masks_stacked = np.vstack(val_masks)[:, 0, :, :]\n",
    "val_predictions_stacked = val_predictions_stacked[:, y_min_pad:128 - y_max_pad, x_min_pad:128 - x_max_pad]\n",
    "\n",
    "val_masks_stacked = val_masks_stacked[:, y_min_pad:128 - y_max_pad, x_min_pad:128 - x_max_pad]\n",
    "val_masks_stacked.shape, val_predictions_stacked.shape\n"
   ]
  },
  {
   "cell_type": "code",
   "execution_count": 45,
   "metadata": {},
   "outputs": [
    {
     "name": "stdout",
     "output_type": "stream",
     "text": [
      "Threshold: 0.0, Metric: 0.157\n",
      "Threshold: 0.1, Metric: 0.472\n",
      "Threshold: 0.2, Metric: 0.711\n",
      "Threshold: 0.3, Metric: 0.857\n",
      "Threshold: 0.4, Metric: 0.901\n",
      "Threshold: 0.5, Metric: 0.915\n",
      "Threshold: 0.6, Metric: 0.905\n",
      "Threshold: 0.7, Metric: 0.881\n",
      "Threshold: 0.8, Metric: 0.844\n",
      "Threshold: 0.9, Metric: 0.783\n",
      "Threshold: 1.0, Metric: 0.583\n"
     ]
    }
   ],
   "source": [
    "from sklearn.metrics import jaccard_similarity_score\n",
    "\n",
    "metric_by_threshold = []\n",
    "for threshold in np.linspace(0, 1, 11):\n",
    "    val_binary_prediction = (val_predictions_stacked > threshold).astype(int)\n",
    "    \n",
    "    iou_values = []\n",
    "    for y_mask, p_mask in zip(val_masks_stacked, val_binary_prediction):\n",
    "        iou = jaccard_similarity_score(y_mask.flatten(), p_mask.flatten())\n",
    "        iou_values.append(iou)\n",
    "    iou_values = np.array(iou_values)\n",
    "    \n",
    "    accuracies = [\n",
    "        np.mean(iou_values > iou_threshold)\n",
    "        for iou_threshold in np.linspace(0.5, 0.95, 10)\n",
    "    ]\n",
    "    print('Threshold: %.1f, Metric: %.3f' % (threshold, np.mean(accuracies)))\n",
    "    metric_by_threshold.append((np.mean(accuracies), threshold))\n",
    "    \n",
    "best_metric, best_threshold = max(metric_by_threshold)"
   ]
  },
  {
   "cell_type": "code",
   "execution_count": 41,
   "metadata": {},
   "outputs": [
    {
     "data": {
      "text/plain": [
       "(18000, 101, 101)"
      ]
     },
     "execution_count": 41,
     "metadata": {},
     "output_type": "execute_result"
    }
   ],
   "source": [
    "final_pred.shape"
   ]
  },
  {
   "cell_type": "code",
   "execution_count": 42,
   "metadata": {},
   "outputs": [],
   "source": [
    "threshold = best_threshold\n",
    "binary_prediction = (final_pred > threshold).astype(int)\n",
    "\n",
    "def rle_encoding(x):\n",
    "    dots = np.where(x.T.flatten() == 1)[0]\n",
    "    run_lengths = []\n",
    "    prev = -2\n",
    "    for b in dots:\n",
    "        if (b > prev+1): run_lengths.extend((b + 1, 0))\n",
    "        run_lengths[-1] += 1\n",
    "        prev = b\n",
    "    return run_lengths\n",
    "\n",
    "all_masks = []\n",
    "for p_mask in list(binary_prediction):\n",
    "    p_mask = rle_encoding(p_mask)\n",
    "    all_masks.append(' '.join(map(str, p_mask)))\n"
   ]
  },
  {
   "cell_type": "code",
   "execution_count": 43,
   "metadata": {},
   "outputs": [],
   "source": [
    "submit = pd.DataFrame([test_file_list, all_masks]).T\n",
    "submit.columns = ['id', 'rle_mask']\n",
    "submit.to_csv('results/submit_unet_img_aug_4.csv', index = False)"
   ]
  },
  {
   "cell_type": "markdown",
   "metadata": {},
   "source": [
    "# "
   ]
  },
  {
   "cell_type": "code",
   "execution_count": null,
   "metadata": {},
   "outputs": [],
   "source": []
  },
  {
   "cell_type": "code",
   "execution_count": null,
   "metadata": {},
   "outputs": [],
   "source": []
  },
  {
   "cell_type": "code",
   "execution_count": null,
   "metadata": {},
   "outputs": [],
   "source": []
  }
 ],
 "metadata": {
  "kernelspec": {
   "display_name": "Python 3",
   "language": "python",
   "name": "python3"
  },
  "language_info": {
   "codemirror_mode": {
    "name": "ipython",
    "version": 3
   },
   "file_extension": ".py",
   "mimetype": "text/x-python",
   "name": "python",
   "nbconvert_exporter": "python",
   "pygments_lexer": "ipython3",
   "version": "3.6.7"
  }
 },
 "nbformat": 4,
 "nbformat_minor": 2
}
