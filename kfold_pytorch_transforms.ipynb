{
 "cells": [
  {
   "cell_type": "code",
   "execution_count": 1,
   "metadata": {},
   "outputs": [],
   "source": [
    "import pandas as pd\n",
    "import pickle"
   ]
  },
  {
   "cell_type": "code",
   "execution_count": 2,
   "metadata": {},
   "outputs": [],
   "source": [
    "import os\n",
    "\n",
    "DATA_DIR = 'data/train-scene classification'\n",
    "MODEL_DIR = \"saved_model/\"\n",
    "\n",
    "IMG_DIR = os.path.join(DATA_DIR, 'train')\n",
    "\n",
    "TRAIN_CSV = os.path.join(DATA_DIR, 'train.csv')\n",
    "TEST_CSV = \"data/test_WyRytb0.csv\"\n",
    "\n",
    "RESULTS = \"results/\"\n",
    "\n",
    "image = 'image_name'\n",
    "label = 'label'\n",
    "\n",
    "numpy_dir = \"numpy_outs/\"\n",
    "\n",
    "H = W = 150\n",
    "ORIG_H = ORIG_W = 150"
   ]
  },
  {
   "cell_type": "code",
   "execution_count": 3,
   "metadata": {},
   "outputs": [],
   "source": [
    "# from utlities import stratified_split\n",
    "#generate metadata\n",
    "# stratified_split(TRAIN_CSV,\"k_fold_metadata\")"
   ]
  },
  {
   "cell_type": "code",
   "execution_count": 4,
   "metadata": {},
   "outputs": [],
   "source": [
    "test_data = pd.read_csv(TEST_CSV)"
   ]
  },
  {
   "cell_type": "code",
   "execution_count": 5,
   "metadata": {},
   "outputs": [
    {
     "data": {
      "text/plain": [
       "(150, 150)"
      ]
     },
     "execution_count": 5,
     "metadata": {},
     "output_type": "execute_result"
    }
   ],
   "source": [
    "from PIL import Image\n",
    "img = Image.open(\"data/train-scene classification/train/\"+\"2.jpg\")\n",
    "img.size"
   ]
  },
  {
   "cell_type": "code",
   "execution_count": 6,
   "metadata": {},
   "outputs": [],
   "source": [
    "import os\n",
    "import numpy as np\n",
    "import matplotlib.pyplot as plt\n",
    "import pandas as pd\n",
    "import torch\n",
    "import torchvision.transforms.functional as Func\n",
    "from torch.utils import data\n",
    "from torchvision import transforms, utils\n",
    "\n",
    "import tqdm\n",
    "from torch.autograd import Variable\n",
    "from sklearn.model_selection import train_test_split\n",
    "\n",
    "class AVDataset(data.Dataset):\n",
    "    def __init__(self, IMG_DIR, file_list, is_test = False, transform=None):\n",
    "        self.is_test = is_test\n",
    "        self.root_path = IMG_DIR\n",
    "        self.file_list = file_list\n",
    "        self.transform = transform\n",
    "    \n",
    "    def __len__(self):\n",
    "        return len(self.file_list)\n",
    "    \n",
    "    def __getitem__(self, index):\n",
    "        if index not in range(0, len(self.file_list)):\n",
    "            return self.__getitem__(np.random.randint(0, self.__len__()))\n",
    "        \n",
    "        file_id = self.file_list[index]\n",
    "        \n",
    "        image_path = os.path.join(self.root_path, file_id[0])\n",
    "        \n",
    "        image = load_image(image_path)\n",
    "        if self.transform:\n",
    "            image = self.transform(image)\n",
    "            \n",
    "        if self.is_test==True:\n",
    "            return image\n",
    "        else:\n",
    "            return image,file_id[1]"
   ]
  },
  {
   "cell_type": "code",
   "execution_count": 7,
   "metadata": {},
   "outputs": [],
   "source": [
    "no_transforms = transforms.Compose([\n",
    "    transforms.ToTensor(),\n",
    "    transforms.Normalize(mean=[0.485, 0.456, 0.406],\n",
    "                        std=[0.229, 0.224, 0.225])\n",
    "                                   ])\n",
    "train_transforms = transforms.Compose([\n",
    "    transforms.RandomHorizontalFlip(p=1.0),\n",
    "    transforms.ToTensor(),\n",
    "    transforms.Normalize(mean=[0.485, 0.456, 0.406],\n",
    "                        std=[0.229, 0.224, 0.225])\n",
    "])\n",
    "train_transforms2 = transforms.Compose([\n",
    "    transforms.ColorJitter(brightness=0.4, contrast=0.2, saturation=0.5, hue=0.3),\n",
    "    transforms.ToTensor(),\n",
    "    transforms.Normalize(mean=[0.485, 0.456, 0.406],\n",
    "                        std=[0.229, 0.224, 0.225])\n",
    "])\n",
    "train_transforms3 = transforms.Compose([\n",
    "    transforms.RandomHorizontalFlip(p=1.0),\n",
    "    transforms.ColorJitter(brightness=0.4, contrast=0.2, saturation=0.5, hue=0.3),\n",
    "    transforms.ToTensor(),\n",
    "    transforms.Normalize(mean=[0.485, 0.456, 0.406],\n",
    "                        std=[0.229, 0.224, 0.225])\n",
    "])"
   ]
  },
  {
   "cell_type": "code",
   "execution_count": 8,
   "metadata": {},
   "outputs": [],
   "source": [
    "%matplotlib inline\n",
    "import cv2\n",
    "from PIL import Image\n",
    "import matplotlib.pyplot as plt\n",
    "def load_image(path):\n",
    "    img = cv2.imread(str(path))\n",
    "    img = cv2.cvtColor(img,cv2.COLOR_BGR2RGB)\n",
    "    if img.shape != (H,W,3):\n",
    "        img = cv2.resize(img, (H,W), interpolation = cv2.INTER_AREA)\n",
    "    return Image.fromarray(img)"
   ]
  },
  {
   "cell_type": "code",
   "execution_count": 9,
   "metadata": {},
   "outputs": [],
   "source": [
    "def create_file_list(dataframe):\n",
    "    return [tuple(x) for x in dataframe.values]"
   ]
  },
  {
   "cell_type": "code",
   "execution_count": 10,
   "metadata": {},
   "outputs": [],
   "source": [
    "import torch\n",
    "from torch import nn\n",
    "from pathlib import Path\n",
    "from torch.nn import functional as F\n",
    "from torchvision import models\n",
    "from torchvision.transforms import ToTensor, Normalize, Compose\n",
    "import cv2\n",
    "from pathlib import Path"
   ]
  },
  {
   "cell_type": "code",
   "execution_count": 11,
   "metadata": {},
   "outputs": [],
   "source": [
    "from cnn_finetune import make_model\n",
    "model = make_model('resnet34', num_classes=6, pretrained=True, input_size=(150, 150))\n"
   ]
  },
  {
   "cell_type": "code",
   "execution_count": 12,
   "metadata": {},
   "outputs": [],
   "source": [
    "import torch\n",
    "from torchvision import models\n",
    "from torchsummary import summary\n",
    "device = torch.device('cuda' if torch.cuda.is_available() else 'cpu')\n",
    "vgg = model.to(device)\n",
    "\n",
    "\n",
    "# summary(vgg, (3, 150, 150))"
   ]
  },
  {
   "cell_type": "code",
   "execution_count": 13,
   "metadata": {},
   "outputs": [],
   "source": [
    "def save_checkpoint(state, is_best,filename):\n",
    "#     filename='saved_model/best_acc.pth.tar'\n",
    "    \"\"\"Save checkpoint if a new best is achieved\"\"\"\n",
    "    if is_best:\n",
    "        print (\"=> Saving a new best\")\n",
    "        torch.save(state, filename)  # save checkpoint\n",
    "    else:\n",
    "        print (\"=> Validation loss did not improve\")"
   ]
  },
  {
   "cell_type": "code",
   "execution_count": 14,
   "metadata": {},
   "outputs": [],
   "source": [
    "from sklearn.metrics import accuracy_score, classification_report , confusion_matrix\n",
    "def train_data(train_dataloader,val_dataloader, filename):\n",
    "    best_acc=0.0\n",
    "    model = make_model('resnet50', num_classes=6, pretrained=True, input_size=(150, 150), dropout_p=0.5)\n",
    "    model = model.to(device)\n",
    "    learning_rate = 1e-3\n",
    "    optimizer = torch.optim.SGD(model.parameters(), lr=learning_rate,momentum=0.9)\n",
    "    criterion =  nn.CrossEntropyLoss()\n",
    "    epoch=10\n",
    "    for e in range(epoch):\n",
    "    #     learning_rate = cyclic_lr(e)\n",
    "        print(\"learning_rate\",learning_rate)\n",
    "        train_loss = []\n",
    "        train_preds = []\n",
    "        train_truth = []\n",
    "        for image, mask in tqdm.tqdm(train_dataloader):\n",
    "\n",
    "            optimizer.zero_grad()\n",
    "\n",
    "            image = image.type(torch.FloatTensor).cuda()\n",
    "            y_pred = model(Variable(image))\n",
    "            loss = criterion(y_pred, Variable(mask.cuda()))\n",
    "\n",
    "            _,predicted = torch.max(y_pred,1)\n",
    "            train_preds.extend(predicted.cpu().data.numpy())\n",
    "            train_truth.extend(mask.cpu().data.numpy())\n",
    "\n",
    "            loss.backward()\n",
    "\n",
    "            optimizer.step()\n",
    "            train_loss.append(loss.item())\n",
    "\n",
    "        val_loss = []\n",
    "        val_preds = []\n",
    "        val_truth = []\n",
    "        for image, mask in val_dataloader:\n",
    "            image = image.type(torch.FloatTensor).cuda()\n",
    "            y_pred = model(Variable(image))\n",
    "\n",
    "            _,predicted = torch.max(y_pred,1)\n",
    "            val_preds.extend(predicted.cpu().data.numpy())\n",
    "            val_truth.extend(mask.cpu().data.numpy())\n",
    "\n",
    "            loss = criterion(y_pred, Variable(mask.cuda()))\n",
    "            val_loss.append(loss.item())\n",
    "        \n",
    "        train_acc = accuracy_score(train_truth,train_preds)\n",
    "        val_acc = accuracy_score(val_truth,val_preds)\n",
    "        print(\"Epoch: %d, Train loss: %.3f,  Val loss: %.3f\" % (e, np.mean(train_loss), np.mean(val_loss)))\n",
    "        print(\"Train acc: %.3f, Val acc: %.3f\" %(train_acc, val_acc))\n",
    "#         print(\"Classification report\" , classification_report(val_truth, val_preds))\n",
    "        print(\"Confusion report\" , confusion_matrix(val_truth, val_preds))\n",
    "        \n",
    "        is_best = bool(val_acc>best_acc)\n",
    "        best_acc = max(val_acc,best_acc)\n",
    "        save_checkpoint({\n",
    "            'epoch': e + 1,\n",
    "            'state_dict': model.state_dict(),\n",
    "            'best_acc': best_acc\n",
    "        }, is_best, filename)"
   ]
  },
  {
   "cell_type": "code",
   "execution_count": 15,
   "metadata": {},
   "outputs": [
    {
     "name": "stdout",
     "output_type": "stream",
     "text": [
      "******************** Fold 0 **********\n"
     ]
    },
    {
     "name": "stderr",
     "output_type": "stream",
     "text": [
      "  0%|          | 0/3449 [00:00<?, ?it/s]"
     ]
    },
    {
     "name": "stdout",
     "output_type": "stream",
     "text": [
      "learning_rate 0.001\n"
     ]
    },
    {
     "name": "stderr",
     "output_type": "stream",
     "text": [
      "100%|██████████| 3449/3449 [15:28<00:00,  3.71it/s]\n",
      "  0%|          | 0/3449 [00:00<?, ?it/s]"
     ]
    },
    {
     "name": "stdout",
     "output_type": "stream",
     "text": [
      "Epoch: 0, Train loss: 0.255,  Val loss: 0.391\n",
      "Train acc: 0.910, Val acc: 0.883\n",
      "Confusion report [[767   6   5   4  13 153]\n",
      " [  1 959   9   7   1  11]\n",
      " [  0   9 950  68  36   5]\n",
      " [  1  17 187 875  13   3]\n",
      " [  8   5  56  34 894   7]\n",
      " [ 33  10   7   0   7 983]]\n",
      "=> Saving a new best\n",
      "learning_rate 0.001\n"
     ]
    },
    {
     "name": "stderr",
     "output_type": "stream",
     "text": [
      "100%|██████████| 3449/3449 [15:32<00:00,  3.70it/s]\n",
      "  0%|          | 0/3449 [00:00<?, ?it/s]"
     ]
    },
    {
     "name": "stdout",
     "output_type": "stream",
     "text": [
      "Epoch: 1, Train loss: 0.102,  Val loss: 0.388\n",
      "Train acc: 0.964, Val acc: 0.896\n",
      "Confusion report [[826   3   1   0  15 103]\n",
      " [  0 960  12   5   1  10]\n",
      " [  0   8 889 115  50   6]\n",
      " [  2   8 125 936  24   1]\n",
      " [ 19   4  14  34 925   8]\n",
      " [ 55   7   2   1   3 972]]\n",
      "=> Saving a new best\n",
      "learning_rate 0.001\n"
     ]
    },
    {
     "name": "stderr",
     "output_type": "stream",
     "text": [
      "100%|██████████| 3449/3449 [15:24<00:00,  3.73it/s]\n",
      "  0%|          | 0/3449 [00:00<?, ?it/s]"
     ]
    },
    {
     "name": "stdout",
     "output_type": "stream",
     "text": [
      "Epoch: 2, Train loss: 0.052,  Val loss: 0.420\n",
      "Train acc: 0.982, Val acc: 0.902\n",
      "Confusion report [[811   5   2   4  18 108]\n",
      " [  0 966   7   8   5   2]\n",
      " [  1   7 902 120  38   0]\n",
      " [  3  12  98 975   8   0]\n",
      " [  5   3  15  43 938   0]\n",
      " [ 54  13   4   2  15 952]]\n",
      "=> Saving a new best\n",
      "learning_rate 0.001\n"
     ]
    },
    {
     "name": "stderr",
     "output_type": "stream",
     "text": [
      "100%|██████████| 3449/3449 [15:24<00:00,  3.73it/s]\n",
      "  0%|          | 0/3449 [00:00<?, ?it/s]"
     ]
    },
    {
     "name": "stdout",
     "output_type": "stream",
     "text": [
      "Epoch: 3, Train loss: 0.033,  Val loss: 0.474\n",
      "Train acc: 0.989, Val acc: 0.901\n",
      "Confusion report [[813   3   5   2  21 104]\n",
      " [  0 975   2   0   5   6]\n",
      " [  1  11 928  94  33   1]\n",
      " [  3  31 112 915  32   3]\n",
      " [  9  10  25  23 933   4]\n",
      " [ 51   8   6   1   2 972]]\n",
      "=> Validation loss did not improve\n",
      "learning_rate 0.001\n"
     ]
    },
    {
     "name": "stderr",
     "output_type": "stream",
     "text": [
      "100%|██████████| 3449/3449 [15:24<00:00,  3.73it/s]\n",
      "  0%|          | 0/3449 [00:00<?, ?it/s]"
     ]
    },
    {
     "name": "stdout",
     "output_type": "stream",
     "text": [
      "Epoch: 4, Train loss: 0.026,  Val loss: 0.462\n",
      "Train acc: 0.991, Val acc: 0.902\n",
      "Confusion report [[828   1   4   2   9 104]\n",
      " [  0 967  10   4   2   5]\n",
      " [  0   1 949  83  32   3]\n",
      " [  4   6 135 927  18   6]\n",
      " [ 14   0  49  28 911   2]\n",
      " [ 67   1   7   2   3 960]]\n",
      "=> Validation loss did not improve\n",
      "learning_rate 0.001\n"
     ]
    },
    {
     "name": "stderr",
     "output_type": "stream",
     "text": [
      "100%|██████████| 3449/3449 [15:24<00:00,  3.73it/s]\n",
      "  0%|          | 0/3449 [00:00<?, ?it/s]"
     ]
    },
    {
     "name": "stdout",
     "output_type": "stream",
     "text": [
      "Epoch: 5, Train loss: 0.017,  Val loss: 0.452\n",
      "Train acc: 0.994, Val acc: 0.912\n",
      "Confusion report [[ 835    2    0    1   10  100]\n",
      " [   1  979    0    4    0    4]\n",
      " [   0    3  915  125   25    0]\n",
      " [   2   12   72 1001    8    1]\n",
      " [  15    2   28   44  909    6]\n",
      " [  64   11    0    0    1  964]]\n",
      "=> Saving a new best\n",
      "learning_rate 0.001\n"
     ]
    },
    {
     "name": "stderr",
     "output_type": "stream",
     "text": [
      "100%|██████████| 3449/3449 [15:24<00:00,  3.73it/s]\n",
      "  0%|          | 0/3449 [00:00<?, ?it/s]"
     ]
    },
    {
     "name": "stdout",
     "output_type": "stream",
     "text": [
      "Epoch: 6, Train loss: 0.014,  Val loss: 0.485\n",
      "Train acc: 0.995, Val acc: 0.913\n",
      "Confusion report [[823   1   0   1  16 107]\n",
      " [  1 979   1   3   1   3]\n",
      " [  1   6 928 101  30   2]\n",
      " [  0  16  97 964  17   2]\n",
      " [  6   2  18  38 936   4]\n",
      " [ 51   6   0   2   0 981]]\n",
      "=> Saving a new best\n",
      "learning_rate 0.001\n"
     ]
    },
    {
     "name": "stderr",
     "output_type": "stream",
     "text": [
      "100%|██████████| 3449/3449 [15:24<00:00,  3.73it/s]\n",
      "  0%|          | 0/3449 [00:00<?, ?it/s]"
     ]
    },
    {
     "name": "stdout",
     "output_type": "stream",
     "text": [
      "Epoch: 7, Train loss: 0.010,  Val loss: 0.505\n",
      "Train acc: 0.996, Val acc: 0.908\n",
      "Confusion report [[810   2   2   1  16 117]\n",
      " [  0 977   1  10   0   0]\n",
      " [  0  11 929 105  23   0]\n",
      " [  4  11 112 953   8   8]\n",
      " [  5   0  21  42 935   1]\n",
      " [ 53   2   2   0   7 976]]\n",
      "=> Validation loss did not improve\n",
      "learning_rate 0.001\n"
     ]
    },
    {
     "name": "stderr",
     "output_type": "stream",
     "text": [
      "100%|██████████| 3449/3449 [15:24<00:00,  3.73it/s]\n",
      "  0%|          | 0/3449 [00:00<?, ?it/s]"
     ]
    },
    {
     "name": "stdout",
     "output_type": "stream",
     "text": [
      "Epoch: 8, Train loss: 0.010,  Val loss: 0.482\n",
      "Train acc: 0.997, Val acc: 0.903\n",
      "Confusion report [[845   2   0   1  11  89]\n",
      " [  0 974   1   3   0  10]\n",
      " [  0  10 926 106  24   2]\n",
      " [  6  16 104 949  18   3]\n",
      " [  9   2  21  31 940   1]\n",
      " [118   0   2   2   1 917]]\n",
      "=> Validation loss did not improve\n",
      "learning_rate 0.001\n"
     ]
    },
    {
     "name": "stderr",
     "output_type": "stream",
     "text": [
      "100%|██████████| 3449/3449 [15:24<00:00,  3.73it/s]\n"
     ]
    },
    {
     "name": "stdout",
     "output_type": "stream",
     "text": [
      "Epoch: 9, Train loss: 0.011,  Val loss: 0.543\n",
      "Train acc: 0.996, Val acc: 0.912\n",
      "Confusion report [[823   4   1   0  11 109]\n",
      " [  0 987   1   0   0   0]\n",
      " [  1   7 926 116  17   1]\n",
      " [  0  19 100 964  10   3]\n",
      " [  5   7  26  40 926   0]\n",
      " [ 47   4   5   2   4 978]]\n",
      "=> Validation loss did not improve\n",
      "******************** Fold 1 **********\n"
     ]
    },
    {
     "name": "stderr",
     "output_type": "stream",
     "text": [
      "  0%|          | 0/3449 [00:00<?, ?it/s]"
     ]
    },
    {
     "name": "stdout",
     "output_type": "stream",
     "text": [
      "learning_rate 0.001\n"
     ]
    },
    {
     "name": "stderr",
     "output_type": "stream",
     "text": [
      "100%|██████████| 3449/3449 [15:24<00:00,  3.73it/s]\n",
      "  0%|          | 0/3449 [00:00<?, ?it/s]"
     ]
    },
    {
     "name": "stdout",
     "output_type": "stream",
     "text": [
      "Epoch: 0, Train loss: 0.253,  Val loss: 0.385\n",
      "Train acc: 0.910, Val acc: 0.872\n",
      "Confusion report [[897   3   5   5   2  36]\n",
      " [  2 968   2  10   1   5]\n",
      " [  2  17 822 188  32   3]\n",
      " [ 11  25 102 914  38   6]\n",
      " [ 16  22  37  45 874  10]\n",
      " [103  17  14   4  20 882]]\n",
      "=> Saving a new best\n",
      "learning_rate 0.001\n"
     ]
    },
    {
     "name": "stderr",
     "output_type": "stream",
     "text": [
      "100%|██████████| 3449/3449 [15:23<00:00,  3.73it/s]\n",
      "  0%|          | 0/3449 [00:00<?, ?it/s]"
     ]
    },
    {
     "name": "stdout",
     "output_type": "stream",
     "text": [
      "Epoch: 1, Train loss: 0.100,  Val loss: 0.412\n",
      "Train acc: 0.965, Val acc: 0.896\n",
      "Confusion report [[874   0   3   3   2  66]\n",
      " [  8 952   6  13   2   7]\n",
      " [  0   9 902 127  25   1]\n",
      " [  4  19 124 913  30   6]\n",
      " [ 18   9  41  29 901   6]\n",
      " [ 46   8   7   2  17 960]]\n",
      "=> Saving a new best\n",
      "learning_rate 0.001\n"
     ]
    },
    {
     "name": "stderr",
     "output_type": "stream",
     "text": [
      "100%|██████████| 3449/3449 [15:23<00:00,  3.73it/s]\n",
      "  0%|          | 0/3449 [00:00<?, ?it/s]"
     ]
    },
    {
     "name": "stdout",
     "output_type": "stream",
     "text": [
      "Epoch: 2, Train loss: 0.054,  Val loss: 0.487\n",
      "Train acc: 0.981, Val acc: 0.895\n",
      "Confusion report [[858   6  12   2   6  64]\n",
      " [  1 977   6   3   0   1]\n",
      " [  0  16 934  94  20   0]\n",
      " [  5  18 160 888  21   4]\n",
      " [ 10  14  41  37 897   5]\n",
      " [ 52  12  14   1  22 939]]\n",
      "=> Validation loss did not improve\n",
      "learning_rate 0.001\n"
     ]
    },
    {
     "name": "stderr",
     "output_type": "stream",
     "text": [
      "100%|██████████| 3449/3449 [15:24<00:00,  3.73it/s]\n",
      "  0%|          | 0/3449 [00:00<?, ?it/s]"
     ]
    },
    {
     "name": "stdout",
     "output_type": "stream",
     "text": [
      "Epoch: 3, Train loss: 0.035,  Val loss: 0.487\n",
      "Train acc: 0.988, Val acc: 0.895\n",
      "Confusion report [[843   5  13   5   3  79]\n",
      " [  3 970   5   6   0   4]\n",
      " [  1  13 898 127  25   0]\n",
      " [  5  12 113 932  33   1]\n",
      " [ 13  15  46  30 894   6]\n",
      " [ 47  12   9   4   9 959]]\n",
      "=> Validation loss did not improve\n",
      "learning_rate 0.001\n"
     ]
    },
    {
     "name": "stderr",
     "output_type": "stream",
     "text": [
      "100%|██████████| 3449/3449 [15:24<00:00,  3.73it/s]\n",
      "  0%|          | 0/3449 [00:00<?, ?it/s]"
     ]
    },
    {
     "name": "stdout",
     "output_type": "stream",
     "text": [
      "Epoch: 4, Train loss: 0.025,  Val loss: 0.506\n",
      "Train acc: 0.991, Val acc: 0.900\n",
      "Confusion report [[888   3   5   4   4  44]\n",
      " [  2 961   6   7   0  12]\n",
      " [  2  17 911 120  13   1]\n",
      " [  9  17 123 926  19   2]\n",
      " [ 19  16  36  42 884   7]\n",
      " [ 59  10   6   1   7 957]]\n",
      "=> Saving a new best\n",
      "learning_rate 0.001\n"
     ]
    },
    {
     "name": "stderr",
     "output_type": "stream",
     "text": [
      "100%|██████████| 3449/3449 [15:24<00:00,  3.73it/s]\n",
      "  0%|          | 0/3449 [00:00<?, ?it/s]"
     ]
    },
    {
     "name": "stdout",
     "output_type": "stream",
     "text": [
      "Epoch: 5, Train loss: 0.018,  Val loss: 0.515\n",
      "Train acc: 0.994, Val acc: 0.904\n",
      "Confusion report [[903   0   2   2   1  40]\n",
      " [  0 968   3   5   3   9]\n",
      " [  3  15 912 110  24   0]\n",
      " [ 12  16 143 897  26   2]\n",
      " [ 17  14  32  20 915   6]\n",
      " [ 53   4   9   1  16 957]]\n",
      "=> Saving a new best\n",
      "learning_rate 0.001\n"
     ]
    },
    {
     "name": "stderr",
     "output_type": "stream",
     "text": [
      "100%|██████████| 3449/3449 [15:24<00:00,  3.73it/s]\n",
      "  0%|          | 0/3449 [00:00<?, ?it/s]"
     ]
    },
    {
     "name": "stdout",
     "output_type": "stream",
     "text": [
      "Epoch: 6, Train loss: 0.015,  Val loss: 0.523\n",
      "Train acc: 0.995, Val acc: 0.901\n",
      "Confusion report [[861   0   0   6   3  78]\n",
      " [  6 956   2  16   0   8]\n",
      " [  0  12 882 149  18   3]\n",
      " [  5  14  95 947  32   3]\n",
      " [ 17   7  27  40 901  12]\n",
      " [ 30   5  10   0  10 985]]\n",
      "=> Validation loss did not improve\n",
      "learning_rate 0.001\n"
     ]
    },
    {
     "name": "stderr",
     "output_type": "stream",
     "text": [
      "100%|██████████| 3449/3449 [15:24<00:00,  3.73it/s]\n",
      "  0%|          | 0/3449 [00:00<?, ?it/s]"
     ]
    },
    {
     "name": "stdout",
     "output_type": "stream",
     "text": [
      "Epoch: 7, Train loss: 0.013,  Val loss: 0.550\n",
      "Train acc: 0.995, Val acc: 0.905\n",
      "Confusion report [[861   2   1   1   1  82]\n",
      " [  5 962   2  10   0   9]\n",
      " [  5   9 903 126  20   1]\n",
      " [  9  11 101 932  36   7]\n",
      " [ 18   9  27  26 904  20]\n",
      " [ 30   5   1   1   8 995]]\n",
      "=> Saving a new best\n",
      "learning_rate 0.001\n"
     ]
    },
    {
     "name": "stderr",
     "output_type": "stream",
     "text": [
      "100%|██████████| 3449/3449 [15:24<00:00,  3.73it/s]\n",
      "  0%|          | 0/3449 [00:00<?, ?it/s]"
     ]
    },
    {
     "name": "stdout",
     "output_type": "stream",
     "text": [
      "Epoch: 8, Train loss: 0.010,  Val loss: 0.530\n",
      "Train acc: 0.997, Val acc: 0.907\n",
      "Confusion report [[871   1   2   3   4  67]\n",
      " [  2 966   5  11   0   4]\n",
      " [  1  12 927 106  17   1]\n",
      " [  4   6 127 928  25   6]\n",
      " [ 16   7  36  37 899   9]\n",
      " [ 32  10   9   3   7 979]]\n",
      "=> Saving a new best\n",
      "learning_rate 0.001\n"
     ]
    },
    {
     "name": "stderr",
     "output_type": "stream",
     "text": [
      "100%|██████████| 3449/3449 [15:24<00:00,  3.73it/s]\n"
     ]
    },
    {
     "name": "stdout",
     "output_type": "stream",
     "text": [
      "Epoch: 9, Train loss: 0.008,  Val loss: 0.569\n",
      "Train acc: 0.997, Val acc: 0.908\n",
      "Confusion report [[874   1   5   5   6  57]\n",
      " [  4 961   2  13   3   5]\n",
      " [  1   7 897 153   5   1]\n",
      " [  2  13 104 947  28   2]\n",
      " [  8  11  25  30 920  10]\n",
      " [ 29  13   8   0  12 978]]\n",
      "=> Saving a new best\n",
      "******************** Fold 2 **********\n"
     ]
    },
    {
     "name": "stderr",
     "output_type": "stream",
     "text": [
      "  0%|          | 0/3449 [00:00<?, ?it/s]"
     ]
    },
    {
     "name": "stdout",
     "output_type": "stream",
     "text": [
      "learning_rate 0.001\n"
     ]
    },
    {
     "name": "stderr",
     "output_type": "stream",
     "text": [
      "100%|██████████| 3449/3449 [15:24<00:00,  3.73it/s]\n",
      "  0%|          | 0/3449 [00:00<?, ?it/s]"
     ]
    },
    {
     "name": "stdout",
     "output_type": "stream",
     "text": [
      "Epoch: 0, Train loss: 0.253,  Val loss: 0.407\n",
      "Train acc: 0.910, Val acc: 0.876\n",
      "Confusion report [[826  12   7   9  10  84]\n",
      " [  3 935   8  17  14  11]\n",
      " [ 15   6 893 109  34   7]\n",
      " [ 11   9 168 879  24   5]\n",
      " [ 13   7  45  26 891  22]\n",
      " [ 52   5   6   7  13 957]]\n",
      "=> Saving a new best\n",
      "learning_rate 0.001\n"
     ]
    },
    {
     "name": "stderr",
     "output_type": "stream",
     "text": [
      "100%|██████████| 3449/3449 [15:24<00:00,  3.73it/s]\n",
      "  0%|          | 0/3449 [00:00<?, ?it/s]"
     ]
    },
    {
     "name": "stdout",
     "output_type": "stream",
     "text": [
      "Epoch: 1, Train loss: 0.101,  Val loss: 0.455\n",
      "Train acc: 0.965, Val acc: 0.884\n",
      "Confusion report [[819   6  13   3  13  94]\n",
      " [  2 942   7  23   2  12]\n",
      " [ 12  15 845 145  39   8]\n",
      " [  7   9 126 915  36   3]\n",
      " [  6   9  22  25 932  10]\n",
      " [ 34  10   7   1  16 972]]\n",
      "=> Saving a new best\n",
      "learning_rate 0.001\n"
     ]
    },
    {
     "name": "stderr",
     "output_type": "stream",
     "text": [
      "100%|██████████| 3449/3449 [15:23<00:00,  3.73it/s]\n",
      "  0%|          | 0/3449 [00:00<?, ?it/s]"
     ]
    },
    {
     "name": "stdout",
     "output_type": "stream",
     "text": [
      "Epoch: 2, Train loss: 0.053,  Val loss: 0.515\n",
      "Train acc: 0.982, Val acc: 0.888\n",
      "Confusion report [[835  17  14   3  11  68]\n",
      " [  1 964   4  15   3   1]\n",
      " [ 14  17 897 108  23   5]\n",
      " [  5  14 156 893  26   2]\n",
      " [ 11  13  31  26 920   3]\n",
      " [ 60  17   5   2  14 942]]\n",
      "=> Saving a new best\n",
      "learning_rate 0.001\n"
     ]
    },
    {
     "name": "stderr",
     "output_type": "stream",
     "text": [
      "100%|██████████| 3449/3449 [15:24<00:00,  3.73it/s]\n",
      "  0%|          | 0/3449 [00:00<?, ?it/s]"
     ]
    },
    {
     "name": "stdout",
     "output_type": "stream",
     "text": [
      "Epoch: 3, Train loss: 0.035,  Val loss: 0.505\n",
      "Train acc: 0.988, Val acc: 0.890\n",
      "Confusion report [[841   3  15   1  13  75]\n",
      " [  1 958   3  12   5   9]\n",
      " [ 12  16 881 127  22   6]\n",
      " [  3  15 159 888  30   1]\n",
      " [  7  13  37  27 914   6]\n",
      " [ 32   9   8   2   6 983]]\n",
      "=> Saving a new best\n",
      "learning_rate 0.001\n"
     ]
    },
    {
     "name": "stderr",
     "output_type": "stream",
     "text": [
      "100%|██████████| 3449/3449 [15:24<00:00,  3.73it/s]\n",
      "  0%|          | 0/3449 [00:00<?, ?it/s]"
     ]
    },
    {
     "name": "stdout",
     "output_type": "stream",
     "text": [
      "Epoch: 4, Train loss: 0.024,  Val loss: 0.562\n",
      "Train acc: 0.992, Val acc: 0.891\n",
      "Confusion report [[810   6  12   6   4 110]\n",
      " [  0 958   6  15   3   6]\n",
      " [  7  13 897 112  25  10]\n",
      " [ 10  10 164 882  28   2]\n",
      " [  9   8  18  28 935   6]\n",
      " [ 28   5   8   1  10 988]]\n",
      "=> Saving a new best\n",
      "learning_rate 0.001\n"
     ]
    },
    {
     "name": "stderr",
     "output_type": "stream",
     "text": [
      "100%|██████████| 3449/3449 [15:24<00:00,  3.73it/s]\n",
      "  0%|          | 0/3449 [00:00<?, ?it/s]"
     ]
    },
    {
     "name": "stdout",
     "output_type": "stream",
     "text": [
      "Epoch: 5, Train loss: 0.015,  Val loss: 0.562\n",
      "Train acc: 0.995, Val acc: 0.894\n",
      "Confusion report [[835  10   9   1  12  81]\n",
      " [  0 970   0  13   3   2]\n",
      " [ 11  21 854 142  29   7]\n",
      " [  7  21 106 926  35   1]\n",
      " [  7  16  20  22 933   6]\n",
      " [ 32  14   7   3  14 970]]\n",
      "=> Saving a new best\n",
      "learning_rate 0.001\n"
     ]
    },
    {
     "name": "stderr",
     "output_type": "stream",
     "text": [
      "100%|██████████| 3449/3449 [15:24<00:00,  3.73it/s]\n",
      "  0%|          | 0/3449 [00:00<?, ?it/s]"
     ]
    },
    {
     "name": "stdout",
     "output_type": "stream",
     "text": [
      "Epoch: 6, Train loss: 0.014,  Val loss: 0.565\n",
      "Train acc: 0.995, Val acc: 0.893\n",
      "Confusion report [[861   5   7   0  13  62]\n",
      " [  1 959   1  15   6   6]\n",
      " [ 14  15 902 116  13   4]\n",
      " [  9  11 169 887  18   2]\n",
      " [ 11  13  47  21 910   2]\n",
      " [ 44   9   7   4  10 966]]\n",
      "=> Validation loss did not improve\n",
      "learning_rate 0.001\n"
     ]
    },
    {
     "name": "stderr",
     "output_type": "stream",
     "text": [
      "100%|██████████| 3449/3449 [15:24<00:00,  3.73it/s]\n",
      "  0%|          | 0/3449 [00:00<?, ?it/s]"
     ]
    },
    {
     "name": "stdout",
     "output_type": "stream",
     "text": [
      "Epoch: 7, Train loss: 0.015,  Val loss: 0.540\n",
      "Train acc: 0.995, Val acc: 0.900\n",
      "Confusion report [[829   5   9   0   5 100]\n",
      " [  0 962   4  16   3   3]\n",
      " [ 13  11 897 112  20  11]\n",
      " [  5  12 123 934  18   4]\n",
      " [  8  11  25  32 921   7]\n",
      " [ 26  10  10   1   8 985]]\n",
      "=> Saving a new best\n",
      "learning_rate 0.001\n"
     ]
    },
    {
     "name": "stderr",
     "output_type": "stream",
     "text": [
      "100%|██████████| 3449/3449 [15:23<00:00,  3.73it/s]\n",
      "  0%|          | 0/3449 [00:00<?, ?it/s]"
     ]
    },
    {
     "name": "stdout",
     "output_type": "stream",
     "text": [
      "Epoch: 8, Train loss: 0.009,  Val loss: 0.597\n",
      "Train acc: 0.997, Val acc: 0.900\n",
      "Confusion report [[867   4   7   2   3  65]\n",
      " [  4 958   3  17   3   3]\n",
      " [ 18  14 885 117  21   9]\n",
      " [ 10   8 124 925  28   1]\n",
      " [  7  10  33  27 923   4]\n",
      " [ 49   7   4   4   8 968]]\n",
      "=> Validation loss did not improve\n",
      "learning_rate 0.001\n"
     ]
    },
    {
     "name": "stderr",
     "output_type": "stream",
     "text": [
      "100%|██████████| 3449/3449 [15:24<00:00,  3.73it/s]\n"
     ]
    },
    {
     "name": "stdout",
     "output_type": "stream",
     "text": [
      "Epoch: 9, Train loss: 0.008,  Val loss: 0.594\n",
      "Train acc: 0.997, Val acc: 0.894\n",
      "Confusion report [[836  10  10   2   9  81]\n",
      " [  0 962   4  16   1   5]\n",
      " [  7  14 902 115  18   8]\n",
      " [  5  10 147 905  25   4]\n",
      " [  6   9  48  28 908   5]\n",
      " [ 35   8   6   5  11 975]]\n",
      "=> Validation loss did not improve\n",
      "******************** Fold 3 **********\n"
     ]
    },
    {
     "name": "stderr",
     "output_type": "stream",
     "text": [
      "  0%|          | 0/3449 [00:00<?, ?it/s]"
     ]
    },
    {
     "name": "stdout",
     "output_type": "stream",
     "text": [
      "learning_rate 0.001\n"
     ]
    },
    {
     "name": "stderr",
     "output_type": "stream",
     "text": [
      "100%|██████████| 3449/3449 [15:24<00:00,  3.73it/s]\n",
      "  0%|          | 0/3449 [00:00<?, ?it/s]"
     ]
    },
    {
     "name": "stdout",
     "output_type": "stream",
     "text": [
      "Epoch: 0, Train loss: 0.251,  Val loss: 0.456\n",
      "Train acc: 0.910, Val acc: 0.870\n",
      "Confusion report [[810   4   5   8   7 114]\n",
      " [ 12 932  10  14   5  15]\n",
      " [  9   5 895 108  41   6]\n",
      " [ 13  20 170 832  50   7]\n",
      " [ 21  17  28  22 905  11]\n",
      " [ 47   4  12   6   5 966]]\n",
      "=> Saving a new best\n",
      "learning_rate 0.001\n"
     ]
    },
    {
     "name": "stderr",
     "output_type": "stream",
     "text": [
      "100%|██████████| 3449/3449 [15:34<00:00,  3.69it/s]\n",
      "  0%|          | 0/3449 [00:00<?, ?it/s]"
     ]
    },
    {
     "name": "stdout",
     "output_type": "stream",
     "text": [
      "Epoch: 1, Train loss: 0.095,  Val loss: 0.542\n",
      "Train acc: 0.967, Val acc: 0.879\n",
      "Confusion report [[825   3   2  10   9  99]\n",
      " [  6 948   9   9  10   6]\n",
      " [ 12  11 858 148  35   0]\n",
      " [ 10  16 117 869  67  13]\n",
      " [ 19   9  14  16 937   9]\n",
      " [ 51   7   2  11  12 957]]\n",
      "=> Saving a new best\n",
      "learning_rate 0.001\n"
     ]
    },
    {
     "name": "stderr",
     "output_type": "stream",
     "text": [
      "100%|██████████| 3449/3449 [15:20<00:00,  3.75it/s]\n",
      "  0%|          | 0/3449 [00:00<?, ?it/s]"
     ]
    },
    {
     "name": "stdout",
     "output_type": "stream",
     "text": [
      "Epoch: 2, Train loss: 0.054,  Val loss: 0.565\n",
      "Train acc: 0.981, Val acc: 0.891\n",
      "Confusion report [[843   2   4   8  10  81]\n",
      " [  6 951   7  14   5   5]\n",
      " [  6  11 880 123  40   4]\n",
      " [ 13  12 116 906  42   3]\n",
      " [ 10  14  20  22 934   4]\n",
      " [ 48  12   6  10  13 951]]\n",
      "=> Saving a new best\n",
      "learning_rate 0.001\n"
     ]
    },
    {
     "name": "stderr",
     "output_type": "stream",
     "text": [
      "100%|██████████| 3449/3449 [15:20<00:00,  3.75it/s]\n",
      "  0%|          | 0/3449 [00:00<?, ?it/s]"
     ]
    },
    {
     "name": "stdout",
     "output_type": "stream",
     "text": [
      "Epoch: 3, Train loss: 0.034,  Val loss: 0.622\n",
      "Train acc: 0.989, Val acc: 0.886\n",
      "Confusion report [[857   3   2   9  10  67]\n",
      " [  7 948   5  14   3  11]\n",
      " [ 15   7 900 115  25   2]\n",
      " [ 10  15 151 871  40   5]\n",
      " [ 12  16  33  18 916   9]\n",
      " [ 75   5   3   9   6 942]]\n",
      "=> Validation loss did not improve\n",
      "learning_rate 0.001\n"
     ]
    },
    {
     "name": "stderr",
     "output_type": "stream",
     "text": [
      "100%|██████████| 3449/3449 [15:20<00:00,  3.75it/s]\n",
      "  0%|          | 0/3449 [00:00<?, ?it/s]"
     ]
    },
    {
     "name": "stdout",
     "output_type": "stream",
     "text": [
      "Epoch: 4, Train loss: 0.024,  Val loss: 0.660\n",
      "Train acc: 0.992, Val acc: 0.887\n",
      "Confusion report [[866   5   3   6  13  55]\n",
      " [  6 962   5  10   0   5]\n",
      " [  7  12 889 123  31   2]\n",
      " [ 14  16 139 877  45   1]\n",
      " [ 25  17  21  16 920   5]\n",
      " [ 80  12   4   9   5 930]]\n",
      "=> Validation loss did not improve\n",
      "learning_rate 0.001\n"
     ]
    },
    {
     "name": "stderr",
     "output_type": "stream",
     "text": [
      "100%|██████████| 3449/3449 [15:20<00:00,  3.75it/s]\n",
      "  0%|          | 0/3449 [00:00<?, ?it/s]"
     ]
    },
    {
     "name": "stdout",
     "output_type": "stream",
     "text": [
      "Epoch: 5, Train loss: 0.017,  Val loss: 0.685\n",
      "Train acc: 0.994, Val acc: 0.890\n",
      "Confusion report [[850  12   2   8  14  62]\n",
      " [  4 968   3  10   1   2]\n",
      " [  8  14 903 111  28   0]\n",
      " [  4  27 121 915  23   2]\n",
      " [ 12  20  32  43 894   3]\n",
      " [ 60  24   4   8  12 932]]\n",
      "=> Validation loss did not improve\n",
      "learning_rate 0.001\n"
     ]
    },
    {
     "name": "stderr",
     "output_type": "stream",
     "text": [
      "100%|██████████| 3449/3449 [15:20<00:00,  3.75it/s]\n"
     ]
    },
    {
     "name": "stdout",
     "output_type": "stream",
     "text": [
      "Epoch: 6, Train loss: 0.013,  Val loss: 0.705\n",
      "Train acc: 0.995, Val acc: 0.902\n",
      "Confusion report [[849   7   0   8   4  80]\n",
      " [  4 959   5  12   2   6]\n",
      " [  7   9 907 112  28   1]\n",
      " [  7  15 116 908  40   6]\n",
      " [ 12  12  20  18 935   7]\n",
      " [ 40  11   1   4   7 977]]\n",
      "=> Saving a new best\n",
      "learning_rate 0.001\n"
     ]
    },
    {
     "name": "stderr",
     "output_type": "stream",
     "text": [
      "100%|██████████| 3449/3449 [15:20<00:00,  3.75it/s]\n",
      "  0%|          | 0/3449 [00:00<?, ?it/s]"
     ]
    },
    {
     "name": "stdout",
     "output_type": "stream",
     "text": [
      "Epoch: 7, Train loss: 0.011,  Val loss: 0.712\n",
      "Train acc: 0.996, Val acc: 0.902\n",
      "Confusion report [[850   5   1  11   6  75]\n",
      " [  5 964   3  10   1   5]\n",
      " [  8   9 932  89  26   0]\n",
      " [  5  17 132 902  33   3]\n",
      " [ 14  16  17  23 922  12]\n",
      " [ 49   9   3  10   3 966]]\n",
      "=> Saving a new best\n",
      "learning_rate 0.001\n"
     ]
    },
    {
     "name": "stderr",
     "output_type": "stream",
     "text": [
      "100%|██████████| 3449/3449 [15:20<00:00,  3.75it/s]\n",
      "  0%|          | 0/3449 [00:00<?, ?it/s]"
     ]
    },
    {
     "name": "stdout",
     "output_type": "stream",
     "text": [
      "Epoch: 8, Train loss: 0.012,  Val loss: 0.730\n",
      "Train acc: 0.996, Val acc: 0.895\n",
      "Confusion report [[841   8   2  13   3  81]\n",
      " [  3 956   2   9  12   6]\n",
      " [  9  12 884 132  27   0]\n",
      " [  8  21 118 902  36   7]\n",
      " [ 16   7  17  16 942   6]\n",
      " [ 47   9   4   2  13 965]]\n",
      "=> Validation loss did not improve\n",
      "learning_rate 0.001\n"
     ]
    },
    {
     "name": "stderr",
     "output_type": "stream",
     "text": [
      "100%|██████████| 3449/3449 [15:20<00:00,  3.75it/s]\n"
     ]
    },
    {
     "name": "stdout",
     "output_type": "stream",
     "text": [
      "Epoch: 9, Train loss: 0.007,  Val loss: 0.738\n",
      "Train acc: 0.998, Val acc: 0.896\n",
      "Confusion report [[875   4   1   3   4  61]\n",
      " [  6 950   2  14   6  10]\n",
      " [ 10  11 919 100  24   0]\n",
      " [  8  14 150 878  32  10]\n",
      " [ 18   8  23  23 925   7]\n",
      " [ 68   6   7   2   8 949]]\n",
      "=> Validation loss did not improve\n",
      "******************** Fold 4 **********\n"
     ]
    },
    {
     "name": "stderr",
     "output_type": "stream",
     "text": [
      "  0%|          | 0/3449 [00:00<?, ?it/s]"
     ]
    },
    {
     "name": "stdout",
     "output_type": "stream",
     "text": [
      "learning_rate 0.001\n"
     ]
    },
    {
     "name": "stderr",
     "output_type": "stream",
     "text": [
      "100%|██████████| 3449/3449 [15:20<00:00,  3.75it/s]\n",
      "  0%|          | 0/3449 [00:00<?, ?it/s]"
     ]
    },
    {
     "name": "stdout",
     "output_type": "stream",
     "text": [
      "Epoch: 0, Train loss: 0.254,  Val loss: 0.490\n",
      "Train acc: 0.908, Val acc: 0.853\n",
      "Confusion report [[872   2  13   5  23  33]\n",
      " [ 16 922  12  16  10  12]\n",
      " [  3  15 912  89  37   8]\n",
      " [ 13  13 233 740  83  10]\n",
      " [ 10   3  45  28 918   0]\n",
      " [123   6  11   4  23 873]]\n",
      "=> Saving a new best\n",
      "learning_rate 0.001\n"
     ]
    },
    {
     "name": "stderr",
     "output_type": "stream",
     "text": [
      "100%|██████████| 3449/3449 [15:20<00:00,  3.75it/s]\n",
      "  0%|          | 0/3449 [00:00<?, ?it/s]"
     ]
    },
    {
     "name": "stdout",
     "output_type": "stream",
     "text": [
      "Epoch: 1, Train loss: 0.101,  Val loss: 0.523\n",
      "Train acc: 0.964, Val acc: 0.872\n",
      "Confusion report [[848   7   6   8  18  61]\n",
      " [  0 958   7  10   8   5]\n",
      " [ 11  14 808 178  44   9]\n",
      " [ 12  27 113 860  72   8]\n",
      " [ 18   8  20  30 927   1]\n",
      " [ 53   9   9   6  11 952]]\n",
      "=> Saving a new best\n",
      "learning_rate 0.001\n"
     ]
    },
    {
     "name": "stderr",
     "output_type": "stream",
     "text": [
      "100%|██████████| 3449/3449 [15:20<00:00,  3.75it/s]\n",
      "  0%|          | 0/3449 [00:00<?, ?it/s]"
     ]
    },
    {
     "name": "stdout",
     "output_type": "stream",
     "text": [
      "Epoch: 2, Train loss: 0.057,  Val loss: 0.542\n",
      "Train acc: 0.980, Val acc: 0.880\n",
      "Confusion report [[866   8   8   7  11  48]\n",
      " [  0 960   3  18   4   3]\n",
      " [ 11  21 861 146  19   6]\n",
      " [ 11  17 122 871  66   5]\n",
      " [  9   6  33  32 923   1]\n",
      " [ 91  13   8   7   3 918]]\n",
      "=> Saving a new best\n",
      "learning_rate 0.001\n"
     ]
    },
    {
     "name": "stderr",
     "output_type": "stream",
     "text": [
      "100%|██████████| 3449/3449 [15:20<00:00,  3.75it/s]\n",
      "  0%|          | 0/3449 [00:00<?, ?it/s]"
     ]
    },
    {
     "name": "stdout",
     "output_type": "stream",
     "text": [
      "Epoch: 3, Train loss: 0.033,  Val loss: 0.601\n",
      "Train acc: 0.989, Val acc: 0.886\n",
      "Confusion report [[850   3  12   3  12  68]\n",
      " [  0 961   5  13   2   7]\n",
      " [  7  14 859 146  31   7]\n",
      " [  9  20 126 870  55  12]\n",
      " [  6   6  27  29 934   2]\n",
      " [ 56  11   3   4   5 961]]\n",
      "=> Saving a new best\n",
      "learning_rate 0.001\n"
     ]
    },
    {
     "name": "stderr",
     "output_type": "stream",
     "text": [
      "100%|██████████| 3449/3449 [15:20<00:00,  3.75it/s]\n",
      "  0%|          | 0/3449 [00:00<?, ?it/s]"
     ]
    },
    {
     "name": "stdout",
     "output_type": "stream",
     "text": [
      "Epoch: 4, Train loss: 0.024,  Val loss: 0.603\n",
      "Train acc: 0.992, Val acc: 0.890\n",
      "Confusion report [[841   4  21   1  14  67]\n",
      " [  0 970   0  12   3   3]\n",
      " [  3  17 908 100  28   8]\n",
      " [  9  25 131 858  60   9]\n",
      " [  8   6  32  29 926   3]\n",
      " [ 34  22   9   7  11 957]]\n",
      "=> Saving a new best\n",
      "learning_rate 0.001\n"
     ]
    },
    {
     "name": "stderr",
     "output_type": "stream",
     "text": [
      "100%|██████████| 3449/3449 [15:20<00:00,  3.75it/s]\n",
      "  0%|          | 0/3449 [00:00<?, ?it/s]"
     ]
    },
    {
     "name": "stdout",
     "output_type": "stream",
     "text": [
      "Epoch: 5, Train loss: 0.016,  Val loss: 0.674\n",
      "Train acc: 0.995, Val acc: 0.889\n",
      "Confusion report [[866   1   3   2  10  66]\n",
      " [  2 954   7   9   6  10]\n",
      " [  6  12 901 112  25   8]\n",
      " [  9  15 149 843  66  10]\n",
      " [  8   0  35  29 929   3]\n",
      " [ 56   4   5   6   9 960]]\n",
      "=> Validation loss did not improve\n",
      "learning_rate 0.001\n"
     ]
    },
    {
     "name": "stderr",
     "output_type": "stream",
     "text": [
      "100%|██████████| 3449/3449 [15:20<00:00,  3.75it/s]\n",
      "  0%|          | 0/3449 [00:00<?, ?it/s]"
     ]
    },
    {
     "name": "stdout",
     "output_type": "stream",
     "text": [
      "Epoch: 6, Train loss: 0.015,  Val loss: 0.630\n",
      "Train acc: 0.995, Val acc: 0.890\n",
      "Confusion report [[870   5   5   3  11  54]\n",
      " [  1 965   7   8   5   2]\n",
      " [  7  11 914 108  16   8]\n",
      " [  6  25 155 839  54  13]\n",
      " [  6   5  46  22 921   4]\n",
      " [ 68   7   3  11   2 949]]\n",
      "=> Validation loss did not improve\n",
      "learning_rate 0.001\n"
     ]
    },
    {
     "name": "stderr",
     "output_type": "stream",
     "text": [
      "100%|██████████| 3449/3449 [15:20<00:00,  3.75it/s]\n",
      "  0%|          | 0/3449 [00:00<?, ?it/s]"
     ]
    },
    {
     "name": "stdout",
     "output_type": "stream",
     "text": [
      "Epoch: 7, Train loss: 0.009,  Val loss: 0.662\n",
      "Train acc: 0.997, Val acc: 0.894\n",
      "Confusion report [[869   6   3   2  15  53]\n",
      " [  3 969   4   6   4   2]\n",
      " [  9  16 896 113  25   5]\n",
      " [ 11  21 133 863  55   9]\n",
      " [  9   1  23  26 945   0]\n",
      " [ 70   6   2   6  10 946]]\n",
      "=> Saving a new best\n",
      "learning_rate 0.001\n"
     ]
    },
    {
     "name": "stderr",
     "output_type": "stream",
     "text": [
      "100%|██████████| 3449/3449 [15:20<00:00,  3.75it/s]\n",
      "  0%|          | 0/3449 [00:00<?, ?it/s]"
     ]
    },
    {
     "name": "stdout",
     "output_type": "stream",
     "text": [
      "Epoch: 8, Train loss: 0.011,  Val loss: 0.689\n",
      "Train acc: 0.996, Val acc: 0.890\n",
      "Confusion report [[876   9   2   2  14  45]\n",
      " [  1 956   7  11   5   8]\n",
      " [  7  15 903 115  18   6]\n",
      " [ 10  23 143 865  39  12]\n",
      " [  9   6  32  26 924   7]\n",
      " [ 75   6   6   2  11 940]]\n",
      "=> Validation loss did not improve\n",
      "learning_rate 0.001\n"
     ]
    },
    {
     "name": "stderr",
     "output_type": "stream",
     "text": [
      "100%|██████████| 3449/3449 [15:20<00:00,  3.75it/s]\n"
     ]
    },
    {
     "name": "stdout",
     "output_type": "stream",
     "text": [
      "Epoch: 9, Train loss: 0.013,  Val loss: 0.698\n",
      "Train acc: 0.996, Val acc: 0.887\n",
      "Confusion report [[857   5   2   3   8  73]\n",
      " [  1 969   2   9   5   2]\n",
      " [  6  17 879 128  28   6]\n",
      " [  5  21 139 878  40   9]\n",
      " [  9   3  39  51 899   3]\n",
      " [ 52   8   6  10   6 958]]\n",
      "=> Validation loss did not improve\n",
      "******************** Fold 5 **********\n"
     ]
    },
    {
     "name": "stderr",
     "output_type": "stream",
     "text": [
      "  0%|          | 0/3450 [00:00<?, ?it/s]"
     ]
    },
    {
     "name": "stdout",
     "output_type": "stream",
     "text": [
      "learning_rate 0.001\n"
     ]
    },
    {
     "name": "stderr",
     "output_type": "stream",
     "text": [
      "100%|██████████| 3450/3450 [15:20<00:00,  3.75it/s]\n",
      "  0%|          | 0/3450 [00:00<?, ?it/s]"
     ]
    },
    {
     "name": "stdout",
     "output_type": "stream",
     "text": [
      "Epoch: 0, Train loss: 0.254,  Val loss: 0.480\n",
      "Train acc: 0.910, Val acc: 0.860\n",
      "Confusion report [[819   7   8  14  18  78]\n",
      " [ 10 926   8  14  13  17]\n",
      " [  4   3 810 217  28   2]\n",
      " [  8  13 106 892  68   5]\n",
      " [ 11   0  18  39 928   8]\n",
      " [ 74  15  10   2  42 893]]\n",
      "=> Saving a new best\n",
      "learning_rate 0.001\n"
     ]
    },
    {
     "name": "stderr",
     "output_type": "stream",
     "text": [
      "100%|██████████| 3450/3450 [15:20<00:00,  3.75it/s]\n",
      "  0%|          | 0/3450 [00:00<?, ?it/s]"
     ]
    },
    {
     "name": "stdout",
     "output_type": "stream",
     "text": [
      "Epoch: 1, Train loss: 0.103,  Val loss: 0.518\n",
      "Train acc: 0.964, Val acc: 0.867\n",
      "Confusion report [[861   8   8   4  14  49]\n",
      " [ 10 942  12   9   5  10]\n",
      " [  6   2 912 123  19   2]\n",
      " [ 21  30 185 792  56   8]\n",
      " [  8   9  17  45 910  15]\n",
      " [ 97  26   6   2  12 893]]\n",
      "=> Saving a new best\n",
      "learning_rate 0.001\n"
     ]
    },
    {
     "name": "stderr",
     "output_type": "stream",
     "text": [
      "100%|██████████| 3450/3450 [15:21<00:00,  3.75it/s]\n",
      "  0%|          | 0/3450 [00:00<?, ?it/s]"
     ]
    },
    {
     "name": "stdout",
     "output_type": "stream",
     "text": [
      "Epoch: 2, Train loss: 0.053,  Val loss: 0.560\n",
      "Train acc: 0.982, Val acc: 0.880\n",
      "Confusion report [[865   7   8   4   5  55]\n",
      " [ 13 943   6   8   5  13]\n",
      " [  7   3 891 138  24   1]\n",
      " [ 15  30 132 843  60  12]\n",
      " [  8   8  14  34 935   5]\n",
      " [ 85  13   6   2  14 916]]\n",
      "=> Saving a new best\n",
      "learning_rate 0.001\n"
     ]
    },
    {
     "name": "stderr",
     "output_type": "stream",
     "text": [
      "100%|██████████| 3450/3450 [15:21<00:00,  3.75it/s]\n",
      "  0%|          | 0/3450 [00:00<?, ?it/s]"
     ]
    },
    {
     "name": "stdout",
     "output_type": "stream",
     "text": [
      "Epoch: 3, Train loss: 0.035,  Val loss: 0.627\n",
      "Train acc: 0.988, Val acc: 0.881\n",
      "Confusion report [[846  11   7   6  16  58]\n",
      " [ 10 945   6  11   4  12]\n",
      " [  4   1 922 119  18   0]\n",
      " [ 19  23 162 823  58   7]\n",
      " [  4   9  13  40 933   5]\n",
      " [ 61  17   4   2  22 930]]\n",
      "=> Saving a new best\n",
      "learning_rate 0.001\n"
     ]
    },
    {
     "name": "stderr",
     "output_type": "stream",
     "text": [
      "100%|██████████| 3450/3450 [15:21<00:00,  3.75it/s]\n",
      "  0%|          | 0/3450 [00:00<?, ?it/s]"
     ]
    },
    {
     "name": "stdout",
     "output_type": "stream",
     "text": [
      "Epoch: 4, Train loss: 0.026,  Val loss: 0.627\n",
      "Train acc: 0.991, Val acc: 0.882\n",
      "Confusion report [[862   8   5   4   6  59]\n",
      " [ 11 955   5   8   3   6]\n",
      " [  7   4 938 104  10   1]\n",
      " [ 25  29 158 818  55   7]\n",
      " [ 10  10  24  35 905  20]\n",
      " [ 68  24   4   2  11 927]]\n",
      "=> Saving a new best\n",
      "learning_rate 0.001\n"
     ]
    },
    {
     "name": "stderr",
     "output_type": "stream",
     "text": [
      "100%|██████████| 3450/3450 [15:20<00:00,  3.75it/s]\n",
      "  0%|          | 0/3450 [00:00<?, ?it/s]"
     ]
    },
    {
     "name": "stdout",
     "output_type": "stream",
     "text": [
      "Epoch: 5, Train loss: 0.018,  Val loss: 0.671\n",
      "Train acc: 0.994, Val acc: 0.887\n",
      "Confusion report [[837  22   2  13  12  58]\n",
      " [  8 955   3   8   4  10]\n",
      " [  3   2 891 156  11   1]\n",
      " [ 13  30 100 890  47  12]\n",
      " [  9   9   8  34 926  18]\n",
      " [ 65  17   8   2   6 938]]\n",
      "=> Saving a new best\n",
      "learning_rate 0.001\n"
     ]
    },
    {
     "name": "stderr",
     "output_type": "stream",
     "text": [
      "100%|██████████| 3450/3450 [15:21<00:00,  3.75it/s]\n",
      "  0%|          | 0/3450 [00:00<?, ?it/s]"
     ]
    },
    {
     "name": "stdout",
     "output_type": "stream",
     "text": [
      "Epoch: 6, Train loss: 0.013,  Val loss: 0.629\n",
      "Train acc: 0.996, Val acc: 0.893\n",
      "Confusion report [[849  10   7  10   5  63]\n",
      " [  7 956   4   7   2  12]\n",
      " [  3   0 911 137  13   0]\n",
      " [ 12  22 122 884  38  14]\n",
      " [  6   5  15  35 928  15]\n",
      " [ 44  23   8   3  15 943]]\n",
      "=> Saving a new best\n",
      "learning_rate 0.001\n"
     ]
    },
    {
     "name": "stderr",
     "output_type": "stream",
     "text": [
      "100%|██████████| 3450/3450 [15:21<00:00,  3.75it/s]\n",
      "  0%|          | 0/3450 [00:00<?, ?it/s]"
     ]
    },
    {
     "name": "stdout",
     "output_type": "stream",
     "text": [
      "Epoch: 7, Train loss: 0.013,  Val loss: 0.632\n",
      "Train acc: 0.996, Val acc: 0.892\n",
      "Confusion report [[858   7   4   5   6  64]\n",
      " [  5 953   4   2  11  13]\n",
      " [  5   1 924 121  12   1]\n",
      " [ 15  28 132 856  52   9]\n",
      " [  5   6  12  19 947  15]\n",
      " [ 65  21   5   4  11 930]]\n",
      "=> Validation loss did not improve\n",
      "learning_rate 0.001\n"
     ]
    },
    {
     "name": "stderr",
     "output_type": "stream",
     "text": [
      "100%|██████████| 3450/3450 [15:22<00:00,  3.74it/s]\n",
      "  0%|          | 0/3450 [00:00<?, ?it/s]"
     ]
    },
    {
     "name": "stdout",
     "output_type": "stream",
     "text": [
      "Epoch: 8, Train loss: 0.011,  Val loss: 0.640\n",
      "Train acc: 0.996, Val acc: 0.898\n",
      "Confusion report [[847   9   3   6  13  66]\n",
      " [ 11 951   6   4   7   9]\n",
      " [  1   3 921 123  15   1]\n",
      " [ 10  26 102 897  50   7]\n",
      " [  3   6  16  20 946  13]\n",
      " [ 63  14   5   2   9 943]]\n",
      "=> Saving a new best\n",
      "learning_rate 0.001\n"
     ]
    },
    {
     "name": "stderr",
     "output_type": "stream",
     "text": [
      "100%|██████████| 3450/3450 [15:21<00:00,  3.74it/s]\n"
     ]
    },
    {
     "name": "stdout",
     "output_type": "stream",
     "text": [
      "Epoch: 9, Train loss: 0.010,  Val loss: 0.660\n",
      "Train acc: 0.997, Val acc: 0.894\n",
      "Confusion report [[853   8   5  10   9  59]\n",
      " [ 13 950   8   6   4   7]\n",
      " [  5   1 890 154  14   0]\n",
      " [ 15  10  89 920  49   9]\n",
      " [  5   7  12  46 917  17]\n",
      " [ 62  13   3   2  10 946]]\n",
      "=> Validation loss did not improve\n",
      "******************** Fold 6 **********\n"
     ]
    },
    {
     "name": "stderr",
     "output_type": "stream",
     "text": [
      "  0%|          | 0/3450 [00:00<?, ?it/s]"
     ]
    },
    {
     "name": "stdout",
     "output_type": "stream",
     "text": [
      "learning_rate 0.001\n"
     ]
    },
    {
     "name": "stderr",
     "output_type": "stream",
     "text": [
      "100%|██████████| 3450/3450 [15:21<00:00,  3.74it/s]\n",
      "  0%|          | 0/3450 [00:00<?, ?it/s]"
     ]
    },
    {
     "name": "stdout",
     "output_type": "stream",
     "text": [
      "Epoch: 0, Train loss: 0.254,  Val loss: 0.449\n",
      "Train acc: 0.909, Val acc: 0.859\n",
      "Confusion report [[810   6   8   2  29  89]\n",
      " [  2 962   8   2   2  12]\n",
      " [ 11  26 869 108  34  16]\n",
      " [ 10  25 215 783  47  12]\n",
      " [  3   8  61  13 906   9]\n",
      " [ 46  30  18   1  12 929]]\n",
      "=> Saving a new best\n",
      "learning_rate 0.001\n"
     ]
    },
    {
     "name": "stderr",
     "output_type": "stream",
     "text": [
      "100%|██████████| 3450/3450 [15:21<00:00,  3.74it/s]\n",
      "  0%|          | 0/3450 [00:00<?, ?it/s]"
     ]
    },
    {
     "name": "stdout",
     "output_type": "stream",
     "text": [
      "Epoch: 1, Train loss: 0.103,  Val loss: 0.491\n",
      "Train acc: 0.963, Val acc: 0.872\n",
      "Confusion report [[858   8   6   2   8  62]\n",
      " [  1 959   4   7   7  10]\n",
      " [ 18  21 786 201  31   7]\n",
      " [ 19  24  83 925  28  13]\n",
      " [ 10   5  32  41 901  11]\n",
      " [ 78  33   6   1   8 910]]\n",
      "=> Saving a new best\n",
      "learning_rate 0.001\n"
     ]
    },
    {
     "name": "stderr",
     "output_type": "stream",
     "text": [
      "100%|██████████| 3450/3450 [15:24<00:00,  3.73it/s]\n",
      "  0%|          | 0/3450 [00:00<?, ?it/s]"
     ]
    },
    {
     "name": "stdout",
     "output_type": "stream",
     "text": [
      "Epoch: 2, Train loss: 0.055,  Val loss: 0.518\n",
      "Train acc: 0.981, Val acc: 0.877\n",
      "Confusion report [[876   4   4   2   9  49]\n",
      " [  2 957   8   1   8  12]\n",
      " [ 20  26 863 104  28  23]\n",
      " [  8  28 196 806  38  16]\n",
      " [  6   5  35  17 933   4]\n",
      " [ 76  14   2   0   7 937]]\n",
      "=> Saving a new best\n",
      "learning_rate 0.001\n"
     ]
    },
    {
     "name": "stderr",
     "output_type": "stream",
     "text": [
      "100%|██████████| 3450/3450 [15:25<00:00,  3.73it/s]\n",
      "  0%|          | 0/3450 [00:00<?, ?it/s]"
     ]
    },
    {
     "name": "stdout",
     "output_type": "stream",
     "text": [
      "Epoch: 3, Train loss: 0.036,  Val loss: 0.548\n",
      "Train acc: 0.987, Val acc: 0.887\n",
      "Confusion report [[827   3   9   2  13  90]\n",
      " [  0 971   1   7   4   5]\n",
      " [  5  31 880 114  21  13]\n",
      " [  5  17 127 899  31  13]\n",
      " [  2   9  57  17 913   2]\n",
      " [ 51  30   5   1   8 941]]\n",
      "=> Saving a new best\n",
      "learning_rate 0.001\n"
     ]
    },
    {
     "name": "stderr",
     "output_type": "stream",
     "text": [
      "100%|██████████| 3450/3450 [15:25<00:00,  3.73it/s]\n",
      "  0%|          | 0/3450 [00:00<?, ?it/s]"
     ]
    },
    {
     "name": "stdout",
     "output_type": "stream",
     "text": [
      "Epoch: 4, Train loss: 0.026,  Val loss: 0.555\n",
      "Train acc: 0.991, Val acc: 0.889\n",
      "Confusion report [[817   5  18   3  15  86]\n",
      " [  1 966   3   6   3   9]\n",
      " [  4  23 859 142  25  11]\n",
      " [  7  16 103 927  26  13]\n",
      " [  5   5  37  25 925   3]\n",
      " [ 44  20  11   0   8 953]]\n",
      "=> Saving a new best\n",
      "learning_rate 0.001\n"
     ]
    },
    {
     "name": "stderr",
     "output_type": "stream",
     "text": [
      "100%|██████████| 3450/3450 [15:24<00:00,  3.73it/s]\n",
      "  0%|          | 0/3450 [00:00<?, ?it/s]"
     ]
    },
    {
     "name": "stdout",
     "output_type": "stream",
     "text": [
      "Epoch: 5, Train loss: 0.016,  Val loss: 0.627\n",
      "Train acc: 0.995, Val acc: 0.884\n",
      "Confusion report [[864   4   4   6  16  50]\n",
      " [  0 961   2   7   7  11]\n",
      " [ 11  22 794 195  31  11]\n",
      " [ 11  23  79 947  29   3]\n",
      " [  3   5  22  32 936   2]\n",
      " [ 77  27   5   4  12 911]]\n",
      "=> Validation loss did not improve\n",
      "learning_rate 0.001\n"
     ]
    },
    {
     "name": "stderr",
     "output_type": "stream",
     "text": [
      "100%|██████████| 3450/3450 [15:25<00:00,  3.73it/s]\n",
      "  0%|          | 0/3450 [00:00<?, ?it/s]"
     ]
    },
    {
     "name": "stdout",
     "output_type": "stream",
     "text": [
      "Epoch: 6, Train loss: 0.016,  Val loss: 0.675\n",
      "Train acc: 0.995, Val acc: 0.886\n",
      "Confusion report [[837   7   6   5  13  76]\n",
      " [  0 972   3   3   4   6]\n",
      " [  7  30 862 129  24  12]\n",
      " [ 11  16 101 916  31  17]\n",
      " [  7   9  48  45 889   2]\n",
      " [ 44  32   2   0  10 948]]\n",
      "=> Validation loss did not improve\n",
      "learning_rate 0.001\n"
     ]
    },
    {
     "name": "stderr",
     "output_type": "stream",
     "text": [
      "100%|██████████| 3450/3450 [15:25<00:00,  3.73it/s]\n",
      "  0%|          | 0/3450 [00:00<?, ?it/s]"
     ]
    },
    {
     "name": "stdout",
     "output_type": "stream",
     "text": [
      "Epoch: 7, Train loss: 0.013,  Val loss: 0.609\n",
      "Train acc: 0.996, Val acc: 0.897\n",
      "Confusion report [[875   1   5   2   5  56]\n",
      " [  2 969   1   4   6   6]\n",
      " [ 15  21 889 110  21   8]\n",
      " [ 10  17 115 905  35  10]\n",
      " [  3   6  38  27 922   4]\n",
      " [ 77  16   3   1   4 935]]\n",
      "=> Saving a new best\n",
      "learning_rate 0.001\n"
     ]
    },
    {
     "name": "stderr",
     "output_type": "stream",
     "text": [
      "100%|██████████| 3450/3450 [15:25<00:00,  3.73it/s]\n",
      "  0%|          | 0/3450 [00:00<?, ?it/s]"
     ]
    },
    {
     "name": "stdout",
     "output_type": "stream",
     "text": [
      "Epoch: 8, Train loss: 0.010,  Val loss: 0.673\n",
      "Train acc: 0.996, Val acc: 0.894\n",
      "Confusion report [[871   2  10   2   8  51]\n",
      " [  2 969   4   4   3   6]\n",
      " [ 11  22 863 126  27  15]\n",
      " [ 11  22 103 915  29  12]\n",
      " [  6   8  22  38 922   4]\n",
      " [ 80  17   2   0   3 934]]\n",
      "=> Validation loss did not improve\n",
      "learning_rate 0.001\n"
     ]
    },
    {
     "name": "stderr",
     "output_type": "stream",
     "text": [
      "100%|██████████| 3450/3450 [15:25<00:00,  3.73it/s]\n"
     ]
    },
    {
     "name": "stdout",
     "output_type": "stream",
     "text": [
      "Epoch: 9, Train loss: 0.008,  Val loss: 0.632\n",
      "Train acc: 0.997, Val acc: 0.905\n",
      "Confusion report [[866   3   3   0  19  53]\n",
      " [  0 973   1   5   2   7]\n",
      " [ 12  23 876 107  35  11]\n",
      " [ 11   7 114 915  33  12]\n",
      " [  2   5  12  16 962   3]\n",
      " [ 61  13   3   0   8 951]]\n",
      "=> Saving a new best\n",
      "******************** Fold 7 **********\n"
     ]
    },
    {
     "name": "stderr",
     "output_type": "stream",
     "text": [
      "  0%|          | 0/3450 [00:00<?, ?it/s]"
     ]
    },
    {
     "name": "stdout",
     "output_type": "stream",
     "text": [
      "learning_rate 0.001\n"
     ]
    },
    {
     "name": "stderr",
     "output_type": "stream",
     "text": [
      "100%|██████████| 3450/3450 [15:25<00:00,  3.73it/s]\n",
      "  0%|          | 0/3450 [00:00<?, ?it/s]"
     ]
    },
    {
     "name": "stdout",
     "output_type": "stream",
     "text": [
      "Epoch: 0, Train loss: 0.254,  Val loss: 0.400\n",
      "Train acc: 0.910, Val acc: 0.877\n",
      "Confusion report [[825  13   1   1  28  76]\n",
      " [  0 953   6  11   9   9]\n",
      " [  4  11 851 141  42  15]\n",
      " [  5  10 134 860  76   7]\n",
      " [  4  15  21  28 926   6]\n",
      " [ 48   7   5   5  18 953]]\n",
      "=> Saving a new best\n",
      "learning_rate 0.001\n"
     ]
    },
    {
     "name": "stderr",
     "output_type": "stream",
     "text": [
      "100%|██████████| 3450/3450 [15:25<00:00,  3.73it/s]\n",
      "  0%|          | 0/3450 [00:00<?, ?it/s]"
     ]
    },
    {
     "name": "stdout",
     "output_type": "stream",
     "text": [
      "Epoch: 1, Train loss: 0.099,  Val loss: 0.450\n",
      "Train acc: 0.965, Val acc: 0.883\n",
      "Confusion report [[858   9   0   0  18  59]\n",
      " [  3 951   5  11  10   8]\n",
      " [ 14  11 874 129  30   6]\n",
      " [ 12   7 128 865  72   8]\n",
      " [  9  13  18  26 924  10]\n",
      " [ 59  10  10   1  21 935]]\n",
      "=> Saving a new best\n",
      "learning_rate 0.001\n"
     ]
    },
    {
     "name": "stderr",
     "output_type": "stream",
     "text": [
      "100%|██████████| 3450/3450 [15:25<00:00,  3.73it/s]\n",
      "  0%|          | 0/3450 [00:00<?, ?it/s]"
     ]
    },
    {
     "name": "stdout",
     "output_type": "stream",
     "text": [
      "Epoch: 2, Train loss: 0.056,  Val loss: 0.452\n",
      "Train acc: 0.980, Val acc: 0.889\n",
      "Confusion report [[857   9   2   1   8  67]\n",
      " [  1 963  10   8   4   2]\n",
      " [  2  13 913 105  18  13]\n",
      " [  8  10 168 876  22   8]\n",
      " [  9  17  23  61 883   7]\n",
      " [ 46  12   7   5  14 952]]\n",
      "=> Saving a new best\n",
      "learning_rate 0.001\n"
     ]
    },
    {
     "name": "stderr",
     "output_type": "stream",
     "text": [
      "100%|██████████| 3450/3450 [15:35<00:00,  3.69it/s]\n",
      "  0%|          | 0/3450 [00:00<?, ?it/s]"
     ]
    },
    {
     "name": "stdout",
     "output_type": "stream",
     "text": [
      "Epoch: 3, Train loss: 0.030,  Val loss: 0.501\n",
      "Train acc: 0.990, Val acc: 0.889\n",
      "Confusion report [[859   2   0   1   8  74]\n",
      " [  1 954   8   8   4  13]\n",
      " [  3   9 878 141  19  14]\n",
      " [  8   6 129 913  25  11]\n",
      " [ 17  19  27  57 870  10]\n",
      " [ 55   2   4   0   5 970]]\n",
      "=> Validation loss did not improve\n",
      "learning_rate 0.001\n"
     ]
    },
    {
     "name": "stderr",
     "output_type": "stream",
     "text": [
      "100%|██████████| 3450/3450 [17:38<00:00,  3.26it/s]\n",
      "  0%|          | 0/3450 [00:00<?, ?it/s]"
     ]
    },
    {
     "name": "stdout",
     "output_type": "stream",
     "text": [
      "Epoch: 4, Train loss: 0.024,  Val loss: 0.583\n",
      "Train acc: 0.992, Val acc: 0.890\n",
      "Confusion report [[861   2   1   4   8  68]\n",
      " [  0 970   3   6   4   5]\n",
      " [  1  16 847 173  12  15]\n",
      " [  4   9  89 973  11   6]\n",
      " [  6  23  43  82 837   9]\n",
      " [ 49   5   3   8   9 962]]\n",
      "=> Saving a new best\n",
      "learning_rate 0.001\n"
     ]
    },
    {
     "name": "stderr",
     "output_type": "stream",
     "text": [
      "100%|██████████| 3450/3450 [16:53<00:00,  3.40it/s]\n"
     ]
    },
    {
     "name": "stdout",
     "output_type": "stream",
     "text": [
      "Epoch: 5, Train loss: 0.020,  Val loss: 0.548\n",
      "Train acc: 0.993, Val acc: 0.900\n",
      "Confusion report [[849   7   0   5  18  65]\n",
      " [  0 965   0   8   9   6]\n",
      " [  4  14 905 114  19   8]\n",
      " [  2   7 143 904  31   5]\n",
      " [  4   9  27  39 917   4]\n",
      " [ 36   7   8   1  15 969]]\n",
      "=> Saving a new best\n",
      "learning_rate 0.001\n"
     ]
    },
    {
     "name": "stderr",
     "output_type": "stream",
     "text": [
      "100%|██████████| 3450/3450 [16:20<00:00,  3.52it/s]\n",
      "  0%|          | 0/3450 [00:00<?, ?it/s]"
     ]
    },
    {
     "name": "stdout",
     "output_type": "stream",
     "text": [
      "Epoch: 6, Train loss: 0.013,  Val loss: 0.570\n",
      "Train acc: 0.995, Val acc: 0.901\n",
      "Confusion report [[854  12   2   1  16  59]\n",
      " [  0 971   5   6   5   1]\n",
      " [  6  13 919 106  12   8]\n",
      " [  2   9 136 914  25   6]\n",
      " [  7  17  27  45 897   7]\n",
      " [ 39  10   7   0  18 962]]\n",
      "=> Saving a new best\n",
      "learning_rate 0.001\n"
     ]
    },
    {
     "name": "stderr",
     "output_type": "stream",
     "text": [
      "100%|██████████| 3450/3450 [16:20<00:00,  3.52it/s]\n",
      "  0%|          | 0/3450 [00:00<?, ?it/s]"
     ]
    },
    {
     "name": "stdout",
     "output_type": "stream",
     "text": [
      "Epoch: 7, Train loss: 0.013,  Val loss: 0.543\n",
      "Train acc: 0.995, Val acc: 0.901\n",
      "Confusion report [[874   7   0   1  10  52]\n",
      " [  0 969   3   9   5   2]\n",
      " [  2  11 905 116  17  13]\n",
      " [  7   3 138 913  26   5]\n",
      " [ 13  15  24  42 902   4]\n",
      " [ 55   7   6   0  16 952]]\n",
      "=> Validation loss did not improve\n",
      "learning_rate 0.001\n"
     ]
    },
    {
     "name": "stderr",
     "output_type": "stream",
     "text": [
      "100%|██████████| 3450/3450 [16:36<00:00,  3.46it/s]\n",
      "  0%|          | 0/3450 [00:00<?, ?it/s]"
     ]
    },
    {
     "name": "stdout",
     "output_type": "stream",
     "text": [
      "Epoch: 8, Train loss: 0.008,  Val loss: 0.555\n",
      "Train acc: 0.997, Val acc: 0.908\n",
      "Confusion report [[881   2   2   1   6  52]\n",
      " [  1 958   8   6  10   5]\n",
      " [  5   8 921 113  10   7]\n",
      " [  7   2 113 940  23   7]\n",
      " [  8  13  28  39 909   3]\n",
      " [ 59   2   7   2  13 953]]\n",
      "=> Saving a new best\n",
      "learning_rate 0.001\n"
     ]
    },
    {
     "name": "stderr",
     "output_type": "stream",
     "text": [
      "100%|██████████| 3450/3450 [20:04<00:00,  2.86it/s]\n"
     ]
    },
    {
     "name": "stdout",
     "output_type": "stream",
     "text": [
      "Epoch: 9, Train loss: 0.007,  Val loss: 0.588\n",
      "Train acc: 0.997, Val acc: 0.905\n",
      "Confusion report [[874   0   0   0   8  62]\n",
      " [  2 961   2   5  13   5]\n",
      " [  7  12 891 118  22  14]\n",
      " [  8   6 115 931  25   7]\n",
      " [ 11   8  18  36 922   5]\n",
      " [ 46   5   4   1  16 964]]\n",
      "=> Validation loss did not improve\n",
      "******************** Fold 8 **********\n"
     ]
    },
    {
     "name": "stderr",
     "output_type": "stream",
     "text": [
      "  0%|          | 0/3450 [00:00<?, ?it/s]"
     ]
    },
    {
     "name": "stdout",
     "output_type": "stream",
     "text": [
      "learning_rate 0.001\n"
     ]
    },
    {
     "name": "stderr",
     "output_type": "stream",
     "text": [
      "100%|██████████| 3450/3450 [16:51<00:00,  3.41it/s]\n",
      "  0%|          | 0/3450 [00:00<?, ?it/s]"
     ]
    },
    {
     "name": "stdout",
     "output_type": "stream",
     "text": [
      "Epoch: 0, Train loss: 0.253,  Val loss: 0.449\n",
      "Train acc: 0.912, Val acc: 0.878\n",
      "Confusion report [[843  15   4   8   5  69]\n",
      " [  0 952   5   7  15   9]\n",
      " [  2   9 824 162  65   2]\n",
      " [  6  16 116 905  44   5]\n",
      " [  8   9  29  31 918   5]\n",
      " [ 61  13   4  20   3 935]]\n",
      "=> Saving a new best\n",
      "learning_rate 0.001\n"
     ]
    },
    {
     "name": "stderr",
     "output_type": "stream",
     "text": [
      "100%|██████████| 3450/3450 [16:27<00:00,  3.49it/s]\n",
      "  0%|          | 0/3450 [00:00<?, ?it/s]"
     ]
    },
    {
     "name": "stdout",
     "output_type": "stream",
     "text": [
      "Epoch: 1, Train loss: 0.101,  Val loss: 0.461\n",
      "Train acc: 0.964, Val acc: 0.883\n",
      "Confusion report [[822   8   5   5   9  95]\n",
      " [  0 961   4   7   9   7]\n",
      " [  0   9 837 183  31   4]\n",
      " [  6  16 109 901  49  11]\n",
      " [ 12   5  32  40 905   6]\n",
      " [ 32   7   2   8   3 984]]\n",
      "=> Saving a new best\n",
      "learning_rate 0.001\n"
     ]
    },
    {
     "name": "stderr",
     "output_type": "stream",
     "text": [
      "100%|██████████| 3450/3450 [16:39<00:00,  3.45it/s]\n"
     ]
    },
    {
     "name": "stdout",
     "output_type": "stream",
     "text": [
      "Epoch: 2, Train loss: 0.052,  Val loss: 0.537\n",
      "Train acc: 0.982, Val acc: 0.889\n",
      "Confusion report [[857   9   6   3   6  63]\n",
      " [  0 966   5   3   5   9]\n",
      " [  0   9 903 110  37   5]\n",
      " [  1  21 162 855  44   9]\n",
      " [ 11   8  45  33 897   6]\n",
      " [ 55   8   1   4   1 967]]\n",
      "=> Saving a new best\n",
      "learning_rate 0.001\n"
     ]
    },
    {
     "name": "stderr",
     "output_type": "stream",
     "text": [
      "100%|██████████| 3450/3450 [17:00<00:00,  3.38it/s]\n",
      "  0%|          | 0/3450 [00:00<?, ?it/s]"
     ]
    },
    {
     "name": "stdout",
     "output_type": "stream",
     "text": [
      "Epoch: 3, Train loss: 0.034,  Val loss: 0.585\n",
      "Train acc: 0.989, Val acc: 0.883\n",
      "Confusion report [[850   8   3   2   6  75]\n",
      " [  3 946   3   5   9  22]\n",
      " [  6   6 883 110  43  16]\n",
      " [ 10  19 143 841  60  19]\n",
      " [ 10   6  26  35 909  14]\n",
      " [ 44   3   1   7   2 979]]\n",
      "=> Validation loss did not improve\n",
      "learning_rate 0.001\n"
     ]
    },
    {
     "name": "stderr",
     "output_type": "stream",
     "text": [
      "100%|██████████| 3450/3450 [16:54<00:00,  3.40it/s]\n",
      "  0%|          | 0/3450 [00:00<?, ?it/s]"
     ]
    },
    {
     "name": "stdout",
     "output_type": "stream",
     "text": [
      "Epoch: 4, Train loss: 0.018,  Val loss: 0.596\n",
      "Train acc: 0.994, Val acc: 0.888\n",
      "Confusion report [[861   8   1   1   6  67]\n",
      " [  1 959   4   4  13   7]\n",
      " [  5  13 885 128  30   3]\n",
      " [  7  16 161 870  32   6]\n",
      " [ 14   1  32  58 889   6]\n",
      " [ 49   1   1   7   1 977]]\n",
      "=> Validation loss did not improve\n",
      "learning_rate 0.001\n"
     ]
    },
    {
     "name": "stderr",
     "output_type": "stream",
     "text": [
      "100%|██████████| 3450/3450 [16:32<00:00,  3.48it/s]\n"
     ]
    },
    {
     "name": "stdout",
     "output_type": "stream",
     "text": [
      "Epoch: 5, Train loss: 0.015,  Val loss: 0.627\n",
      "Train acc: 0.995, Val acc: 0.890\n",
      "Confusion report [[878  14   6   1   7  38]\n",
      " [  1 964   7   3   8   5]\n",
      " [  2   7 925  99  28   3]\n",
      " [  7  18 182 835  48   2]\n",
      " [ 13   3  41  21 920   2]\n",
      " [ 86   5   5   6   3 931]]\n",
      "=> Saving a new best\n"
     ]
    },
    {
     "name": "stderr",
     "output_type": "stream",
     "text": [
      "  0%|          | 0/3450 [00:00<?, ?it/s]"
     ]
    },
    {
     "name": "stdout",
     "output_type": "stream",
     "text": [
      "learning_rate 0.001\n"
     ]
    },
    {
     "name": "stderr",
     "output_type": "stream",
     "text": [
      "100%|██████████| 3450/3450 [16:05<00:00,  3.57it/s]\n",
      "  0%|          | 0/3450 [00:00<?, ?it/s]"
     ]
    },
    {
     "name": "stdout",
     "output_type": "stream",
     "text": [
      "Epoch: 6, Train loss: 0.015,  Val loss: 0.670\n",
      "Train acc: 0.995, Val acc: 0.893\n",
      "Confusion report [[852   8   6   1  10  67]\n",
      " [  1 960   1   5  15   6]\n",
      " [  1  10 903 114  33   3]\n",
      " [  5  10 148 885  38   6]\n",
      " [  8   2  33  43 908   6]\n",
      " [ 57   3   4   8   1 963]]\n",
      "=> Saving a new best\n",
      "learning_rate 0.001\n"
     ]
    },
    {
     "name": "stderr",
     "output_type": "stream",
     "text": [
      "100%|██████████| 3450/3450 [16:20<00:00,  3.52it/s]\n",
      "  0%|          | 0/3450 [00:00<?, ?it/s]"
     ]
    },
    {
     "name": "stdout",
     "output_type": "stream",
     "text": [
      "Epoch: 7, Train loss: 0.012,  Val loss: 0.616\n",
      "Train acc: 0.996, Val acc: 0.895\n",
      "Confusion report [[854  13   1   1  11  64]\n",
      " [  0 966   6   3   8   5]\n",
      " [  5   8 884 134  32   1]\n",
      " [  4  13 127 907  31  10]\n",
      " [ 12   5  19  54 904   6]\n",
      " [ 61   4   1   6   1 963]]\n",
      "=> Saving a new best\n",
      "learning_rate 0.001\n"
     ]
    },
    {
     "name": "stderr",
     "output_type": "stream",
     "text": [
      "100%|██████████| 3450/3450 [16:19<00:00,  3.52it/s]\n",
      "  0%|          | 0/3450 [00:00<?, ?it/s]"
     ]
    },
    {
     "name": "stdout",
     "output_type": "stream",
     "text": [
      "Epoch: 8, Train loss: 0.011,  Val loss: 0.637\n",
      "Train acc: 0.996, Val acc: 0.896\n",
      "Confusion report [[870   3   5   1   7  58]\n",
      " [  2 968   1   5   7   5]\n",
      " [  4   7 908 117  28   0]\n",
      " [  4  11 153 879  39   6]\n",
      " [ 18   3  47  36 894   2]\n",
      " [ 48   6   4   6   1 971]]\n",
      "=> Saving a new best\n",
      "learning_rate 0.001\n"
     ]
    },
    {
     "name": "stderr",
     "output_type": "stream",
     "text": [
      "100%|██████████| 3450/3450 [15:32<00:00,  3.70it/s]\n"
     ]
    },
    {
     "name": "stdout",
     "output_type": "stream",
     "text": [
      "Epoch: 9, Train loss: 0.010,  Val loss: 0.652\n",
      "Train acc: 0.997, Val acc: 0.897\n",
      "Confusion report [[871   8   5   1  10  49]\n",
      " [  0 964   2   1  15   6]\n",
      " [  1  14 863 132  49   5]\n",
      " [  6  15 130 876  53  12]\n",
      " [  8   3  18  22 947   2]\n",
      " [ 50   5   1   4   2 974]]\n",
      "=> Saving a new best\n",
      "******************** Fold 9 **********\n"
     ]
    },
    {
     "name": "stderr",
     "output_type": "stream",
     "text": [
      "  0%|          | 0/3450 [00:00<?, ?it/s]"
     ]
    },
    {
     "name": "stdout",
     "output_type": "stream",
     "text": [
      "learning_rate 0.001\n"
     ]
    },
    {
     "name": "stderr",
     "output_type": "stream",
     "text": [
      "100%|██████████| 3450/3450 [15:25<00:00,  3.73it/s]\n",
      "  0%|          | 0/3450 [00:00<?, ?it/s]"
     ]
    },
    {
     "name": "stdout",
     "output_type": "stream",
     "text": [
      "Epoch: 0, Train loss: 0.255,  Val loss: 0.360\n",
      "Train acc: 0.911, Val acc: 0.890\n",
      "Confusion report [[ 780    3    4   12   11  134]\n",
      " [   3  921   19   11    3   31]\n",
      " [   1    5  913  107   30    8]\n",
      " [   2    5  122  935   20    8]\n",
      " [   6    3   41   44  897    9]\n",
      " [  24    4    2    1    2 1003]]\n",
      "=> Saving a new best\n",
      "learning_rate 0.001\n"
     ]
    },
    {
     "name": "stderr",
     "output_type": "stream",
     "text": [
      "100%|██████████| 3450/3450 [15:25<00:00,  3.73it/s]\n",
      "  0%|          | 0/3450 [00:00<?, ?it/s]"
     ]
    },
    {
     "name": "stdout",
     "output_type": "stream",
     "text": [
      "Epoch: 1, Train loss: 0.102,  Val loss: 0.374\n",
      "Train acc: 0.963, Val acc: 0.894\n",
      "Confusion report [[860   7   1   9  12  55]\n",
      " [  2 971   8   1   0   6]\n",
      " [  6   5 925  90  36   2]\n",
      " [  5   9 153 899  26   0]\n",
      " [  4  18  58  28 885   7]\n",
      " [ 76  19   2   3   1 935]]\n",
      "=> Saving a new best\n",
      "learning_rate 0.001\n"
     ]
    },
    {
     "name": "stderr",
     "output_type": "stream",
     "text": [
      "100%|██████████| 3450/3450 [15:25<00:00,  3.73it/s]\n",
      "  0%|          | 0/3450 [00:00<?, ?it/s]"
     ]
    },
    {
     "name": "stdout",
     "output_type": "stream",
     "text": [
      "Epoch: 2, Train loss: 0.051,  Val loss: 0.396\n",
      "Train acc: 0.982, Val acc: 0.907\n",
      "Confusion report [[849   3   3   5  19  65]\n",
      " [  0 968   7   5   0   8]\n",
      " [  0  10 925  97  25   7]\n",
      " [  0   9 150 921  11   1]\n",
      " [  1  10  50  30 907   2]\n",
      " [ 33  15   2   0   1 985]]\n",
      "=> Saving a new best\n",
      "learning_rate 0.001\n"
     ]
    },
    {
     "name": "stderr",
     "output_type": "stream",
     "text": [
      "100%|██████████| 3450/3450 [15:25<00:00,  3.73it/s]\n",
      "  0%|          | 0/3450 [00:00<?, ?it/s]"
     ]
    },
    {
     "name": "stdout",
     "output_type": "stream",
     "text": [
      "Epoch: 3, Train loss: 0.033,  Val loss: 0.420\n",
      "Train acc: 0.989, Val acc: 0.901\n",
      "Confusion report [[884   3   3   7   7  40]\n",
      " [  2 960  13   8   2   3]\n",
      " [  4   5 892 134  27   2]\n",
      " [  1  11 116 948  11   5]\n",
      " [ 10   2  48  34 901   5]\n",
      " [ 82   6   6   4   5 933]]\n",
      "=> Validation loss did not improve\n",
      "learning_rate 0.001\n"
     ]
    },
    {
     "name": "stderr",
     "output_type": "stream",
     "text": [
      "100%|██████████| 3450/3450 [15:25<00:00,  3.73it/s]\n",
      "  0%|          | 0/3450 [00:00<?, ?it/s]"
     ]
    },
    {
     "name": "stdout",
     "output_type": "stream",
     "text": [
      "Epoch: 4, Train loss: 0.024,  Val loss: 0.460\n",
      "Train acc: 0.992, Val acc: 0.905\n",
      "Confusion report [[836   0   2   5  15  86]\n",
      " [  0 951  11   8   5  13]\n",
      " [  1   3 927 103  27   3]\n",
      " [  0   7 139 930  12   4]\n",
      " [  4   1  48  35 908   4]\n",
      " [ 27   4   3   4   6 992]]\n",
      "=> Validation loss did not improve\n",
      "learning_rate 0.001\n"
     ]
    },
    {
     "name": "stderr",
     "output_type": "stream",
     "text": [
      "100%|██████████| 3450/3450 [15:25<00:00,  3.73it/s]\n",
      "  0%|          | 0/3450 [00:00<?, ?it/s]"
     ]
    },
    {
     "name": "stdout",
     "output_type": "stream",
     "text": [
      "Epoch: 5, Train loss: 0.018,  Val loss: 0.420\n",
      "Train acc: 0.994, Val acc: 0.914\n",
      "Confusion report [[872   6   2   6  12  46]\n",
      " [  1 982   2   0   0   3]\n",
      " [  3  10 922  85  38   6]\n",
      " [  1   7 139 922  22   1]\n",
      " [  3   4  33  22 934   4]\n",
      " [ 58   7   2   1   2 966]]\n",
      "=> Saving a new best\n",
      "learning_rate 0.001\n"
     ]
    },
    {
     "name": "stderr",
     "output_type": "stream",
     "text": [
      "100%|██████████| 3450/3450 [15:25<00:00,  3.73it/s]\n",
      "  0%|          | 0/3450 [00:00<?, ?it/s]"
     ]
    },
    {
     "name": "stdout",
     "output_type": "stream",
     "text": [
      "Epoch: 6, Train loss: 0.014,  Val loss: 0.450\n",
      "Train acc: 0.995, Val acc: 0.916\n",
      "Confusion report [[869   0   3   5  14  53]\n",
      " [  1 977   2   5   0   3]\n",
      " [  1   8 923  95  34   3]\n",
      " [  0   7 124 929  25   7]\n",
      " [  7   4  25  27 936   1]\n",
      " [ 44  10   1   1   7 973]]\n",
      "=> Saving a new best\n",
      "learning_rate 0.001\n"
     ]
    },
    {
     "name": "stderr",
     "output_type": "stream",
     "text": [
      "100%|██████████| 3450/3450 [15:25<00:00,  3.73it/s]\n",
      "  0%|          | 0/3450 [00:00<?, ?it/s]"
     ]
    },
    {
     "name": "stdout",
     "output_type": "stream",
     "text": [
      "Epoch: 7, Train loss: 0.013,  Val loss: 0.470\n",
      "Train acc: 0.996, Val acc: 0.906\n",
      "Confusion report [[857   2   2   4  18  61]\n",
      " [  0 977   5   2   0   4]\n",
      " [  5   3 877 118  53   8]\n",
      " [  5   6 120 910  45   6]\n",
      " [ 10   3  19  28 932   8]\n",
      " [ 34   2   0   3   1 996]]\n",
      "=> Validation loss did not improve\n",
      "learning_rate 0.001\n"
     ]
    },
    {
     "name": "stderr",
     "output_type": "stream",
     "text": [
      "100%|██████████| 3450/3450 [15:25<00:00,  3.73it/s]\n",
      "  0%|          | 0/3450 [00:00<?, ?it/s]"
     ]
    },
    {
     "name": "stdout",
     "output_type": "stream",
     "text": [
      "Epoch: 8, Train loss: 0.011,  Val loss: 0.451\n",
      "Train acc: 0.996, Val acc: 0.915\n",
      "Confusion report [[885   0   1   9  11  38]\n",
      " [  0 976   2   6   0   4]\n",
      " [  4   6 906 100  45   3]\n",
      " [  2   7 116 940  19   8]\n",
      " [  8   3  28  22 935   4]\n",
      " [ 62  12   2   0   1 959]]\n",
      "=> Validation loss did not improve\n",
      "learning_rate 0.001\n"
     ]
    },
    {
     "name": "stderr",
     "output_type": "stream",
     "text": [
      "100%|██████████| 3450/3450 [15:25<00:00,  3.73it/s]\n"
     ]
    },
    {
     "name": "stdout",
     "output_type": "stream",
     "text": [
      "Epoch: 9, Train loss: 0.008,  Val loss: 0.464\n",
      "Train acc: 0.997, Val acc: 0.915\n",
      "Confusion report [[854   1   1  12  11  65]\n",
      " [  0 979   0   5   0   4]\n",
      " [  1   7 929  95  25   7]\n",
      " [  0   8 127 938   9  10]\n",
      " [  9   4  31  38 911   7]\n",
      " [ 34   8   1   1   1 991]]\n",
      "=> Validation loss did not improve\n"
     ]
    }
   ],
   "source": [
    "for i in range(0,10):\n",
    "    print(\"*\"*20, \"Fold\", i,\"*\"*10)\n",
    "    train = pd.read_csv(\"k_fold_metadata/train_{}.csv\".format(i))\n",
    "    val = pd.read_csv(\"k_fold_metadata/val_{}.csv\".format(i))\n",
    "    file_list_train = create_file_list(train)\n",
    "    file_list_val = create_file_list(val)\n",
    "    dataset = torch.utils.data.ConcatDataset([AVDataset(IMG_DIR, file_list_train, transform=train_transforms),\n",
    "                                              AVDataset(IMG_DIR, file_list_train, transform=no_transforms),\n",
    "                                              AVDataset(IMG_DIR, file_list_train, transform=train_transforms2),\n",
    "                                              AVDataset(IMG_DIR, file_list_train, transform=train_transforms3)])\n",
    "    val_dataset = torch.utils.data.ConcatDataset([AVDataset(IMG_DIR, file_list_val,transform=no_transforms),\n",
    "                                                  AVDataset(IMG_DIR, file_list_val,transform=train_transforms),\n",
    "                                                  AVDataset(IMG_DIR, file_list_val,transform=train_transforms2),\n",
    "                                                  AVDataset(IMG_DIR, file_list_val,transform=train_transforms3)])\n",
    "    train_dataloader = data.DataLoader(dataset, batch_size = 16,shuffle=True, num_workers=8)\n",
    "    val_dataloader = data.DataLoader(val_dataset, batch_size = 8, shuffle = False, num_workers=4)\n",
    "    train_data(train_dataloader, val_dataloader, \"saved_model/resnet50/model_{}.pth.tar\".format(i))"
   ]
  },
  {
   "cell_type": "code",
   "execution_count": 15,
   "metadata": {},
   "outputs": [
    {
     "name": "stdout",
     "output_type": "stream",
     "text": [
      "7301\n"
     ]
    }
   ],
   "source": [
    "test_file_list = create_file_list(test_data)\n",
    "print(len(test_file_list))"
   ]
  },
  {
   "cell_type": "code",
   "execution_count": 16,
   "metadata": {},
   "outputs": [],
   "source": [
    "def predict_model(model, weight_path, dataloader_test, result_path, fname):\n",
    "    submission=test_data\n",
    "    all_predictions = []\n",
    "    numpy_preds = []\n",
    "    checkpoint = torch.load(weight_path)\n",
    "    start_epoch = checkpoint['epoch']\n",
    "    best_accuracy = checkpoint['best_acc']\n",
    "    model.load_state_dict(checkpoint['state_dict'])\n",
    "    model.eval()\n",
    "    for image in tqdm.tqdm(dataloader_test):\n",
    "        image = image.type(torch.FloatTensor).cuda()\n",
    "        y_pred = F.softmax(model(Variable(image)))\n",
    "        _,predicted = torch.max(y_pred,1)\n",
    "        all_predictions.extend(predicted.cpu().data.numpy())\n",
    "        numpy_preds.extend(y_pred.cpu().data.numpy())\n",
    "    with open(numpy_dir+\"{}{}_{}.pkl\".format(result_path,fname,i), 'wb') as f:\n",
    "        pickle.dump(numpy_preds, f)\n",
    "    submission[\"label\"]=all_predictions\n",
    "    submission.to_csv(RESULTS+\"{}{}_{}.csv\".format(result_path,fname,i),index=False)"
   ]
  },
  {
   "cell_type": "code",
   "execution_count": null,
   "metadata": {},
   "outputs": [
    {
     "name": "stderr",
     "output_type": "stream",
     "text": [
      "  0%|          | 0/457 [00:00<?, ?it/s]/home/mukesh/miniconda3/envs/tgs_torch/lib/python3.6/site-packages/ipykernel_launcher.py:12: UserWarning: Implicit dimension choice for softmax has been deprecated. Change the call to include dim=X as an argument.\n",
      "  if sys.path[0] == '':\n",
      " 30%|██▉       | 137/457 [00:28<01:06,  4.81it/s]"
     ]
    }
   ],
   "source": [
    "model_name = \"resnet34\"\n",
    "model = make_model(model_name, num_classes=6, pretrained=True, input_size=(150, 150))#, dropout_p=0.5)\n",
    "model = model.to(\"cuda\")\n",
    "saved_folders = \"{}/\".format(model_name)#, \"resnet50/\", \"se_resnet50/\"]:\n",
    "for trans, name in zip([no_transforms, train_transforms, train_transforms2, train_transforms3],\n",
    "             [\"no_transforms\", \"train_transforms\", \"train_transforms2\", \"train_transforms3\"]):\n",
    "    test_dataset = AVDataset(IMG_DIR, test_file_list, is_test = True, transform=trans)\n",
    "    dataloader_test = data.DataLoader(test_dataset, batch_size = 16)\n",
    "    for i,weights in enumerate(os.listdir(MODEL_DIR+saved_folders)):\n",
    "        predict_model(model, MODEL_DIR+saved_folders+weights, dataloader_test, saved_folders, name)"
   ]
  },
  {
   "cell_type": "code",
   "execution_count": null,
   "metadata": {},
   "outputs": [],
   "source": []
  }
 ],
 "metadata": {
  "kernelspec": {
   "display_name": "Python 3",
   "language": "python",
   "name": "python3"
  },
  "language_info": {
   "codemirror_mode": {
    "name": "ipython",
    "version": 3
   },
   "file_extension": ".py",
   "mimetype": "text/x-python",
   "name": "python",
   "nbconvert_exporter": "python",
   "pygments_lexer": "ipython3",
   "version": "3.6.7"
  }
 },
 "nbformat": 4,
 "nbformat_minor": 2
}
